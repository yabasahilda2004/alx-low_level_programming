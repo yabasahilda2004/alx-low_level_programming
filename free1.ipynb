{
  "nbformat": 4,
  "nbformat_minor": 0,
  "metadata": {
    "colab": {
      "provenance": [],
      "toc_visible": true,
      "authorship_tag": "ABX9TyNPNwka6Cwgy9oM+HGo9uoq",
      "include_colab_link": true
    },
    "kernelspec": {
      "name": "python3",
      "display_name": "Python 3"
    },
    "language_info": {
      "name": "python"
    },
    "widgets": {
      "application/vnd.jupyter.widget-state+json": {
        "c07a2526176d4b23add42beb76abe827": {
          "model_module": "@jupyter-widgets/controls",
          "model_name": "VBoxModel",
          "model_module_version": "1.5.0",
          "state": {
            "_dom_classes": [
              "widget-interact"
            ],
            "_model_module": "@jupyter-widgets/controls",
            "_model_module_version": "1.5.0",
            "_model_name": "VBoxModel",
            "_view_count": null,
            "_view_module": "@jupyter-widgets/controls",
            "_view_module_version": "1.5.0",
            "_view_name": "VBoxView",
            "box_style": "",
            "children": [
              "IPY_MODEL_79b010278a4e47d793dcf8c11393adc1",
              "IPY_MODEL_ab3af0821d914341b9ae269ed20be27b",
              "IPY_MODEL_8688d9f38a23400da0fb703e1c8ed146",
              "IPY_MODEL_95007f7bab6044c7ae6fa1842335a677"
            ],
            "layout": "IPY_MODEL_ee5e24d0786842108d66fc88d43463d0"
          }
        },
        "79b010278a4e47d793dcf8c11393adc1": {
          "model_module": "@jupyter-widgets/controls",
          "model_name": "IntSliderModel",
          "model_module_version": "1.5.0",
          "state": {
            "_dom_classes": [],
            "_model_module": "@jupyter-widgets/controls",
            "_model_module_version": "1.5.0",
            "_model_name": "IntSliderModel",
            "_view_count": null,
            "_view_module": "@jupyter-widgets/controls",
            "_view_module_version": "1.5.0",
            "_view_name": "IntSliderView",
            "continuous_update": true,
            "description": "m",
            "description_tooltip": null,
            "disabled": false,
            "layout": "IPY_MODEL_55693d30031642f09e59c88474d970a9",
            "max": 9,
            "min": -9,
            "orientation": "horizontal",
            "readout": true,
            "readout_format": "d",
            "step": 1,
            "style": "IPY_MODEL_306ecd65f1064366a7675def8f880b9d",
            "value": 0
          }
        },
        "ab3af0821d914341b9ae269ed20be27b": {
          "model_module": "@jupyter-widgets/controls",
          "model_name": "IntSliderModel",
          "model_module_version": "1.5.0",
          "state": {
            "_dom_classes": [],
            "_model_module": "@jupyter-widgets/controls",
            "_model_module_version": "1.5.0",
            "_model_name": "IntSliderModel",
            "_view_count": null,
            "_view_module": "@jupyter-widgets/controls",
            "_view_module_version": "1.5.0",
            "_view_name": "IntSliderView",
            "continuous_update": true,
            "description": "b",
            "description_tooltip": null,
            "disabled": false,
            "layout": "IPY_MODEL_05181d478a7c45a5be1750ace2783a3b",
            "max": 9,
            "min": -9,
            "orientation": "horizontal",
            "readout": true,
            "readout_format": "d",
            "step": 1,
            "style": "IPY_MODEL_b89e34e909af415b97abf22db88c2952",
            "value": 0
          }
        },
        "8688d9f38a23400da0fb703e1c8ed146": {
          "model_module": "@jupyter-widgets/controls",
          "model_name": "IntSliderModel",
          "model_module_version": "1.5.0",
          "state": {
            "_dom_classes": [],
            "_model_module": "@jupyter-widgets/controls",
            "_model_module_version": "1.5.0",
            "_model_name": "IntSliderModel",
            "_view_count": null,
            "_view_module": "@jupyter-widgets/controls",
            "_view_module_version": "1.5.0",
            "_view_name": "IntSliderView",
            "continuous_update": true,
            "description": "zoom",
            "description_tooltip": null,
            "disabled": false,
            "layout": "IPY_MODEL_516ced2fea0747439684e5ff79a2f70c",
            "max": 100,
            "min": 1,
            "orientation": "horizontal",
            "readout": true,
            "readout_format": "d",
            "step": 1,
            "style": "IPY_MODEL_63a2a9e45fd848179191464659faca73",
            "value": 50
          }
        },
        "95007f7bab6044c7ae6fa1842335a677": {
          "model_module": "@jupyter-widgets/output",
          "model_name": "OutputModel",
          "model_module_version": "1.0.0",
          "state": {
            "_dom_classes": [],
            "_model_module": "@jupyter-widgets/output",
            "_model_module_version": "1.0.0",
            "_model_name": "OutputModel",
            "_view_count": null,
            "_view_module": "@jupyter-widgets/output",
            "_view_module_version": "1.0.0",
            "_view_name": "OutputView",
            "layout": "IPY_MODEL_3b37b201d8e2484e815b531c987f6ebf",
            "msg_id": "",
            "outputs": [
              {
                "output_type": "display_data",
                "data": {
                  "text/plain": "<Figure size 640x480 with 1 Axes>",
                  "image/png": "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\n"
                },
                "metadata": {}
              }
            ]
          }
        },
        "ee5e24d0786842108d66fc88d43463d0": {
          "model_module": "@jupyter-widgets/base",
          "model_name": "LayoutModel",
          "model_module_version": "1.2.0",
          "state": {
            "_model_module": "@jupyter-widgets/base",
            "_model_module_version": "1.2.0",
            "_model_name": "LayoutModel",
            "_view_count": null,
            "_view_module": "@jupyter-widgets/base",
            "_view_module_version": "1.2.0",
            "_view_name": "LayoutView",
            "align_content": null,
            "align_items": null,
            "align_self": null,
            "border": null,
            "bottom": null,
            "display": null,
            "flex": null,
            "flex_flow": null,
            "grid_area": null,
            "grid_auto_columns": null,
            "grid_auto_flow": null,
            "grid_auto_rows": null,
            "grid_column": null,
            "grid_gap": null,
            "grid_row": null,
            "grid_template_areas": null,
            "grid_template_columns": null,
            "grid_template_rows": null,
            "height": null,
            "justify_content": null,
            "justify_items": null,
            "left": null,
            "margin": null,
            "max_height": null,
            "max_width": null,
            "min_height": null,
            "min_width": null,
            "object_fit": null,
            "object_position": null,
            "order": null,
            "overflow": null,
            "overflow_x": null,
            "overflow_y": null,
            "padding": null,
            "right": null,
            "top": null,
            "visibility": null,
            "width": null
          }
        },
        "55693d30031642f09e59c88474d970a9": {
          "model_module": "@jupyter-widgets/base",
          "model_name": "LayoutModel",
          "model_module_version": "1.2.0",
          "state": {
            "_model_module": "@jupyter-widgets/base",
            "_model_module_version": "1.2.0",
            "_model_name": "LayoutModel",
            "_view_count": null,
            "_view_module": "@jupyter-widgets/base",
            "_view_module_version": "1.2.0",
            "_view_name": "LayoutView",
            "align_content": null,
            "align_items": null,
            "align_self": null,
            "border": null,
            "bottom": null,
            "display": null,
            "flex": null,
            "flex_flow": null,
            "grid_area": null,
            "grid_auto_columns": null,
            "grid_auto_flow": null,
            "grid_auto_rows": null,
            "grid_column": null,
            "grid_gap": null,
            "grid_row": null,
            "grid_template_areas": null,
            "grid_template_columns": null,
            "grid_template_rows": null,
            "height": null,
            "justify_content": null,
            "justify_items": null,
            "left": null,
            "margin": null,
            "max_height": null,
            "max_width": null,
            "min_height": null,
            "min_width": null,
            "object_fit": null,
            "object_position": null,
            "order": null,
            "overflow": null,
            "overflow_x": null,
            "overflow_y": null,
            "padding": null,
            "right": null,
            "top": null,
            "visibility": null,
            "width": null
          }
        },
        "306ecd65f1064366a7675def8f880b9d": {
          "model_module": "@jupyter-widgets/controls",
          "model_name": "SliderStyleModel",
          "model_module_version": "1.5.0",
          "state": {
            "_model_module": "@jupyter-widgets/controls",
            "_model_module_version": "1.5.0",
            "_model_name": "SliderStyleModel",
            "_view_count": null,
            "_view_module": "@jupyter-widgets/base",
            "_view_module_version": "1.2.0",
            "_view_name": "StyleView",
            "description_width": "",
            "handle_color": null
          }
        },
        "05181d478a7c45a5be1750ace2783a3b": {
          "model_module": "@jupyter-widgets/base",
          "model_name": "LayoutModel",
          "model_module_version": "1.2.0",
          "state": {
            "_model_module": "@jupyter-widgets/base",
            "_model_module_version": "1.2.0",
            "_model_name": "LayoutModel",
            "_view_count": null,
            "_view_module": "@jupyter-widgets/base",
            "_view_module_version": "1.2.0",
            "_view_name": "LayoutView",
            "align_content": null,
            "align_items": null,
            "align_self": null,
            "border": null,
            "bottom": null,
            "display": null,
            "flex": null,
            "flex_flow": null,
            "grid_area": null,
            "grid_auto_columns": null,
            "grid_auto_flow": null,
            "grid_auto_rows": null,
            "grid_column": null,
            "grid_gap": null,
            "grid_row": null,
            "grid_template_areas": null,
            "grid_template_columns": null,
            "grid_template_rows": null,
            "height": null,
            "justify_content": null,
            "justify_items": null,
            "left": null,
            "margin": null,
            "max_height": null,
            "max_width": null,
            "min_height": null,
            "min_width": null,
            "object_fit": null,
            "object_position": null,
            "order": null,
            "overflow": null,
            "overflow_x": null,
            "overflow_y": null,
            "padding": null,
            "right": null,
            "top": null,
            "visibility": null,
            "width": null
          }
        },
        "b89e34e909af415b97abf22db88c2952": {
          "model_module": "@jupyter-widgets/controls",
          "model_name": "SliderStyleModel",
          "model_module_version": "1.5.0",
          "state": {
            "_model_module": "@jupyter-widgets/controls",
            "_model_module_version": "1.5.0",
            "_model_name": "SliderStyleModel",
            "_view_count": null,
            "_view_module": "@jupyter-widgets/base",
            "_view_module_version": "1.2.0",
            "_view_name": "StyleView",
            "description_width": "",
            "handle_color": null
          }
        },
        "516ced2fea0747439684e5ff79a2f70c": {
          "model_module": "@jupyter-widgets/base",
          "model_name": "LayoutModel",
          "model_module_version": "1.2.0",
          "state": {
            "_model_module": "@jupyter-widgets/base",
            "_model_module_version": "1.2.0",
            "_model_name": "LayoutModel",
            "_view_count": null,
            "_view_module": "@jupyter-widgets/base",
            "_view_module_version": "1.2.0",
            "_view_name": "LayoutView",
            "align_content": null,
            "align_items": null,
            "align_self": null,
            "border": null,
            "bottom": null,
            "display": null,
            "flex": null,
            "flex_flow": null,
            "grid_area": null,
            "grid_auto_columns": null,
            "grid_auto_flow": null,
            "grid_auto_rows": null,
            "grid_column": null,
            "grid_gap": null,
            "grid_row": null,
            "grid_template_areas": null,
            "grid_template_columns": null,
            "grid_template_rows": null,
            "height": null,
            "justify_content": null,
            "justify_items": null,
            "left": null,
            "margin": null,
            "max_height": null,
            "max_width": null,
            "min_height": null,
            "min_width": null,
            "object_fit": null,
            "object_position": null,
            "order": null,
            "overflow": null,
            "overflow_x": null,
            "overflow_y": null,
            "padding": null,
            "right": null,
            "top": null,
            "visibility": null,
            "width": null
          }
        },
        "63a2a9e45fd848179191464659faca73": {
          "model_module": "@jupyter-widgets/controls",
          "model_name": "SliderStyleModel",
          "model_module_version": "1.5.0",
          "state": {
            "_model_module": "@jupyter-widgets/controls",
            "_model_module_version": "1.5.0",
            "_model_name": "SliderStyleModel",
            "_view_count": null,
            "_view_module": "@jupyter-widgets/base",
            "_view_module_version": "1.2.0",
            "_view_name": "StyleView",
            "description_width": "",
            "handle_color": null
          }
        },
        "3b37b201d8e2484e815b531c987f6ebf": {
          "model_module": "@jupyter-widgets/base",
          "model_name": "LayoutModel",
          "model_module_version": "1.2.0",
          "state": {
            "_model_module": "@jupyter-widgets/base",
            "_model_module_version": "1.2.0",
            "_model_name": "LayoutModel",
            "_view_count": null,
            "_view_module": "@jupyter-widgets/base",
            "_view_module_version": "1.2.0",
            "_view_name": "LayoutView",
            "align_content": null,
            "align_items": null,
            "align_self": null,
            "border": null,
            "bottom": null,
            "display": null,
            "flex": null,
            "flex_flow": null,
            "grid_area": null,
            "grid_auto_columns": null,
            "grid_auto_flow": null,
            "grid_auto_rows": null,
            "grid_column": null,
            "grid_gap": null,
            "grid_row": null,
            "grid_template_areas": null,
            "grid_template_columns": null,
            "grid_template_rows": null,
            "height": null,
            "justify_content": null,
            "justify_items": null,
            "left": null,
            "margin": null,
            "max_height": null,
            "max_width": null,
            "min_height": null,
            "min_width": null,
            "object_fit": null,
            "object_position": null,
            "order": null,
            "overflow": null,
            "overflow_x": null,
            "overflow_y": null,
            "padding": null,
            "right": null,
            "top": null,
            "visibility": null,
            "width": null
          }
        }
      }
    }
  },
  "cells": [
    {
      "cell_type": "markdown",
      "metadata": {
        "id": "view-in-github",
        "colab_type": "text"
      },
      "source": [
        "<a href=\"https://colab.research.google.com/github/yabasahilda2004/alx-low_level_programming/blob/master/free1.ipynb\" target=\"_parent\"><img src=\"https://colab.research.google.com/assets/colab-badge.svg\" alt=\"Open In Colab\"/></a>"
      ]
    },
    {
      "cell_type": "markdown",
      "source": [
        "#Learn Ratios and proportions."
      ],
      "metadata": {
        "id": "oOPX_lqOT2NU"
      }
    },
    {
      "cell_type": "markdown",
      "source": [
        "Set up a proportion:<br>\n",
        "$\\frac{n1}{d1}=\\frac{n2}{d2}$"
      ],
      "metadata": {
        "id": "v-0em0IOJeBX"
      }
    },
    {
      "cell_type": "code",
      "source": [
        "#put a zero in for the unknown value\n",
        "\n",
        "n1 = 1\n",
        "d1 = 2\n",
        "n2 = 4\n",
        "d2 = 0\n",
        "\n",
        "if n2 == 0:\n",
        "  answer = d2 * n1 / d1\n",
        "  print(\"n2 = \", answer)\n",
        "if d2 == 0:\n",
        "    answer = n2 * d1 / n1\n",
        "    print(\"d2 = \", answer)"
      ],
      "metadata": {
        "id": "sWDaJkV8QsQh",
        "colab": {
          "base_uri": "https://localhost:8080/"
        },
        "outputId": "046bf05e-26d2-4203-ad54-a8de462d6541"
      },
      "execution_count": null,
      "outputs": [
        {
          "output_type": "stream",
          "name": "stdout",
          "text": [
            "d2 =  8.0\n"
          ]
        }
      ]
    },
    {
      "cell_type": "markdown",
      "source": [
        "Run this code to practice solving one-step and two-step problems. It will give you 12 practice problems. If you don't get them all correct, you can run this again to get more practice. Your answer can be a fraction, decimal, or whole number."
      ],
      "metadata": {
        "id": "afTMw7ajsmo4"
      }
    },
    {
      "cell_type": "code",
      "execution_count": null,
      "metadata": {
        "id": "cWodkgQDlKuV",
        "colab": {
          "base_uri": "https://localhost:8080/"
        },
        "outputId": "052fd974-a9bc-4102-e2c7-ad9e322f8fcd"
      },
      "outputs": [
        {
          "output_type": "stream",
          "name": "stdout",
          "text": [
            "x +  -1  =  11\n",
            "x = 12\n",
            "Correct! \n",
            "\n",
            "-18  + x =  24\n",
            "x = 42\n",
            "Correct! \n",
            "\n",
            "6 x =  19\n",
            "Round your answer to two decimal places.\n",
            "x = 3.17\n",
            "Correct! \n",
            "\n",
            "x/ 5  =  18\n",
            "x = 90\n",
            "Correct! \n",
            "\n",
            "4 x +  3  =  22\n",
            "Round answer to two decimal places\n",
            "x = 4.75\n",
            "Correct! \n",
            "\n",
            " \n",
            "x +  9  =  19\n",
            "x = 10\n",
            "Correct! \n",
            "\n",
            "-3  + x =  12\n",
            "x = 15\n",
            "Correct! \n",
            "\n",
            "5 x =  9\n",
            "Round your answer to two decimal places.\n",
            "x = 1.80\n",
            "Correct! \n",
            "\n",
            "x/ 1  =  15\n",
            "x = 15\n",
            "Correct! \n",
            "\n",
            "1 x +  12  =  21\n",
            "Round answer to two decimal places\n",
            "x = 9\n",
            "Correct! \n",
            "\n",
            " \n",
            "9 x +  4  =  33\n",
            "Round answer to two decimal places\n",
            "x = 3.22\n",
            "Correct! \n",
            "\n",
            "11 x +  -2  =  17\n",
            "Round answer to two decimal places\n",
            "x = 1.73\n",
            "Correct! \n",
            "\n"
          ]
        }
      ],
      "source": [
        "# converts string input (even fractions) to float\n",
        "def string_frac(in_string):\n",
        "    if \"/\" in in_string:\n",
        "        nd = in_string.split(\"/\")\n",
        "        n = float(nd[0])\n",
        "        d = float(nd[1])\n",
        "        ans = n/d\n",
        "        return ans\n",
        "    else:\n",
        "        ans = float(in_string)\n",
        "        return ans\n",
        "\n",
        "\n",
        "# Simplest one-step addition\n",
        "def one_step_add():\n",
        "    import random\n",
        "    # Display problem\n",
        "    a = random.randint(-4,10)\n",
        "    b = random.randint(2,24)\n",
        "    print(\"x + \", a, \" = \", b)\n",
        "    ans = float(input(\"x = \"))\n",
        "    answer = b-a\n",
        "    # Test input\n",
        "    if ans==answer:\n",
        "        print(\"Correct! \\n\")\n",
        "    else:\n",
        "        print(\"Try again\")\n",
        "        print(\"The correct answer is \", answer, \"\\n\")\n",
        "\n",
        "\n",
        "# One-step additon with negaive numbers\n",
        "def one_step_subtract():\n",
        "    import random\n",
        "    a = random.randint(-19,-1)\n",
        "    b = random.randint(2,24)\n",
        "    print(a, \" + x = \", b)\n",
        "    ans = float(input(\"x = \"))\n",
        "    # test\n",
        "    answer = b-a\n",
        "    if ans==answer:\n",
        "        print(\"Correct! \\n\")\n",
        "    else:\n",
        "        print(\"Try again\")\n",
        "        print(\"The correct answer is \", answer, \"\\n\")\n",
        "\n",
        "# One-step multiply\n",
        "def one_step_mult():\n",
        "    # Uses string_frac(<input string>)\n",
        "    import random\n",
        "    a = random.randint(1,11)\n",
        "    b = random.randint(2,24)\n",
        "    print(a, \"x = \", b)\n",
        "    print(\"Round your answer to two decimal places.\")\n",
        "    ans_in = (input(\"x = \"))\n",
        "    answer = round(b/a,2)\n",
        "    # test\n",
        "    if string_frac(ans_in)==answer:\n",
        "        print(\"Correct! \\n\")\n",
        "    else:\n",
        "        print(\"Try again\")\n",
        "        print(\"The correct answer is \", answer, \"\\n\")\n",
        "\n",
        "\n",
        "# One-step divide\n",
        "def one_step_div():\n",
        "    import random\n",
        "    a = random.randint(1,11)\n",
        "    b = random.randint(2,24)\n",
        "    print(\"x/\", a, \" = \", b)\n",
        "    ans = float(input(\"x = \"))\n",
        "    answer = b*a\n",
        "    # test\n",
        "    if ans==answer:\n",
        "        print(\"Correct! \\n\")\n",
        "    else:\n",
        "        print(\"Try again\")\n",
        "        print(\"The correct answer is \", answer, \"\\n\")\n",
        "\n",
        "\n",
        "# Two-step problems\n",
        "def two_step():\n",
        "    import random\n",
        "    # Uses string_frac()\n",
        "    a = random.randint(1,11)\n",
        "    b = random.randint(-7,12)\n",
        "    c = random.randint(2,36)\n",
        "    print(a, \"x + \", b, \" = \", c)\n",
        "    print(\"Round answer to two decimal places\")\n",
        "    ans_in = input(\"x = \")\n",
        "    answer = (c-b)/a\n",
        "    # test\n",
        "    if round(string_frac(ans_in),2)==round(answer,2):\n",
        "        print(\"Correct! \\n\")\n",
        "    else:\n",
        "        print(\"Try again\")\n",
        "        print(\"The correct answer is \", answer, \"\\n\")\n",
        "\n",
        "\n",
        "# test loop\n",
        "for a in range(2):\n",
        "    one_step_add()\n",
        "    one_step_subtract()\n",
        "    one_step_mult()\n",
        "    one_step_div()\n",
        "    two_step()\n",
        "    print(\" \")\n",
        "\n",
        "two_step()\n",
        "two_step()\n"
      ]
    },
    {
      "cell_type": "markdown",
      "source": [
        "#Learn how to solve for X."
      ],
      "metadata": {
        "id": "OpIjZO8EUiwI"
      }
    },
    {
      "cell_type": "markdown",
      "source": [
        "Simplest solve-for-x code"
      ],
      "metadata": {
        "id": "LmokZPV-0DiX"
      }
    },
    {
      "cell_type": "code",
      "execution_count": null,
      "metadata": {
        "id": "ckVvVnV0_unB",
        "colab": {
          "base_uri": "https://localhost:8080/"
        },
        "outputId": "d474eea4-514e-460f-9ef4-2ffa49f725a7"
      },
      "outputs": [
        {
          "output_type": "execute_result",
          "data": {
            "text/plain": [
              "[-sqrt(2), sqrt(2)]"
            ]
          },
          "metadata": {},
          "execution_count": 3
        }
      ],
      "source": [
        "import sympy\n",
        "from sympy import symbols\n",
        "from sympy.solvers import solve\n",
        "\n",
        "x = symbols('x')\n",
        "\n",
        "# Put the equation here\n",
        "eq = 2*x**2 - 4\n",
        "\n",
        "solve(eq,x)\n"
      ]
    },
    {
      "cell_type": "markdown",
      "source": [
        "Prompt for someone to enter the equation, then solve"
      ],
      "metadata": {
        "id": "NjNAC8YtFA7P"
      }
    },
    {
      "cell_type": "code",
      "source": [
        "import sympy\n",
        "from sympy import symbols\n",
        "from sympy.solvers import solve\n",
        "\n",
        "x = symbols('x')\n",
        "eq = input('Enter equation: 0 = ')\n",
        "\n",
        "print(\"x = \", solve(eq,x))\n"
      ],
      "metadata": {
        "id": "Hbri3pi4E_0t",
        "colab": {
          "base_uri": "https://localhost:8080/"
        },
        "outputId": "f4f93e76-c101-4670-9750-55d872713baf"
      },
      "execution_count": null,
      "outputs": [
        {
          "output_type": "stream",
          "name": "stdout",
          "text": [
            "Enter equation: 0 = 2*x + 8\n",
            "x =  [-4]\n"
          ]
        }
      ]
    },
    {
      "cell_type": "markdown",
      "source": [
        "Doing more with the solution"
      ],
      "metadata": {
        "id": "4umZtVuOBRth"
      }
    },
    {
      "cell_type": "code",
      "source": [
        "import sympy\n",
        "from sympy import symbols\n",
        "from sympy.solvers import solve\n",
        "\n",
        "x = symbols('x')\n",
        "\n",
        "# Put the equation here\n",
        "eq = 2*x - 4\n",
        "\n",
        "solution = solve(eq,x)\n",
        "print(\"x = \", solution[0])"
      ],
      "metadata": {
        "id": "7AKDuplzBLs8",
        "colab": {
          "base_uri": "https://localhost:8080/"
        },
        "outputId": "515a7c5a-faa6-4bab-cf54-0f5ca7f18931"
      },
      "execution_count": null,
      "outputs": [
        {
          "output_type": "stream",
          "name": "stdout",
          "text": [
            "x =  2\n"
          ]
        }
      ]
    },
    {
      "cell_type": "markdown",
      "source": [
        "Multiple answers"
      ],
      "metadata": {
        "id": "fjHiCB3cFcKl"
      }
    },
    {
      "cell_type": "code",
      "source": [
        "import sympy\n",
        "from sympy import symbols\n",
        "from sympy.solvers import solve\n",
        "\n",
        "x = symbols('x')\n",
        "\n",
        "eq = input('Enter equation: 0 = ')\n",
        "\n",
        "solution = solve(eq,x)\n",
        "for s in solution:\n",
        "    print(\"x = \", s)\n",
        "\n",
        "\n"
      ],
      "metadata": {
        "id": "JAvk-AYdFj0k",
        "colab": {
          "base_uri": "https://localhost:8080/"
        },
        "outputId": "df0ef5ae-4716-4d00-9108-c6191f6e9c4f"
      },
      "execution_count": null,
      "outputs": [
        {
          "output_type": "stream",
          "name": "stdout",
          "text": [
            "Enter equation: 0 = (x-1)*(x+3)*(x+2)\n",
            "x =  -3\n",
            "x =  -2\n",
            "x =  1\n"
          ]
        }
      ]
    },
    {
      "cell_type": "markdown",
      "source": [
        "Solving in other ways"
      ],
      "metadata": {
        "id": "UO90DRn1ElWm"
      }
    },
    {
      "cell_type": "code",
      "source": [
        "from sympy import *\n",
        "\n",
        "\n",
        "var('x y')\n",
        "\n",
        "# First equation set equal to zero, ready to solve\n",
        "first = 2*x - y\n",
        "\n",
        "\n",
        "# Sympy syntax for equation equal to zero, ready to factor\n",
        "eq1 = Eq(first,0)\n",
        "\n",
        "# Sympy solve for x\n",
        "sol = solve(eq1,x)\n",
        "\n",
        "# Show factored results\n",
        "print(\"x = \", sol[0])\n",
        "\n"
      ],
      "metadata": {
        "id": "aYJgodznDAh9",
        "colab": {
          "base_uri": "https://localhost:8080/"
        },
        "outputId": "70886f33-9f5e-4740-c8cd-bcff83a53290"
      },
      "execution_count": null,
      "outputs": [
        {
          "output_type": "stream",
          "name": "stdout",
          "text": [
            "x =  y/2\n"
          ]
        }
      ]
    },
    {
      "cell_type": "markdown",
      "source": [
        "Factoring"
      ],
      "metadata": {
        "id": "qYjbHYiAPoNj"
      }
    },
    {
      "cell_type": "code",
      "source": [
        "import sympy\n",
        "from sympy import *\n",
        "\n",
        "var('x y')\n",
        "\n",
        "# Equation set equal to zero, ready to solve\n",
        "#eq = x**2-4\n",
        "eq = x**3 - 2*x**2 - 5*x + 6\n",
        "\n",
        "sympy.factor(eq)\n"
      ],
      "metadata": {
        "id": "2JjZ1cPNPqe8",
        "colab": {
          "base_uri": "https://localhost:8080/",
          "height": 39
        },
        "outputId": "3c1210f0-f18c-404d-9df5-6983fb7bcb9a"
      },
      "execution_count": null,
      "outputs": [
        {
          "output_type": "execute_result",
          "data": {
            "text/plain": [
              "(x - 3)*(x - 1)*(x + 2)"
            ],
            "text/latex": "$\\displaystyle \\left(x - 3\\right) \\left(x - 1\\right) \\left(x + 2\\right)$"
          },
          "metadata": {},
          "execution_count": 9
        }
      ]
    },
    {
      "cell_type": "markdown",
      "source": [
        "Explaining how each function works"
      ],
      "metadata": {
        "id": "Kdhalbn6Axlb"
      }
    },
    {
      "cell_type": "code",
      "source": [
        "# converts string input (including fractions) to float\n",
        "def string_frac(in_string):\n",
        "    if \"/\" in in_string:\n",
        "        nd = in_string.split(\"/\")\n",
        "        n = float(nd[0])\n",
        "        d = float(nd[1])\n",
        "        ans = n/d\n",
        "        return ans\n",
        "    else:\n",
        "        ans = float(in_string)\n",
        "        return ans\n",
        "\n",
        "\n",
        "# Simplest one-step addition\n",
        "def one_step_add():\n",
        "    import random\n",
        "    # Display problem\n",
        "    a = random.randint(-4,10)\n",
        "    b = random.randint(2,24)\n",
        "    print(\"x + \", a, \" = \", b)\n",
        "    ans = float(input(\"x = \"))\n",
        "    answer = b-a\n",
        "    # Test input\n",
        "    if ans==answer:\n",
        "        print(\"Correct! \\n\")\n",
        "    else:\n",
        "        print(\"Try again\")\n",
        "        print(\"The correct answer is \", answer, \"\\n\")\n",
        "\n",
        "\n",
        "# One-step additon with negaive numbers\n",
        "def one_step_subtract():\n",
        "    import random\n",
        "    a = random.randint(-19,-1)\n",
        "    b = random.randint(2,24)\n",
        "    print(a, \" + x = \", b)\n",
        "    ans = float(input(\"x = \"))\n",
        "    # test\n",
        "    answer = b-a\n",
        "    if ans==answer:\n",
        "        print(\"Correct! \\n\")\n",
        "    else:\n",
        "        print(\"Try again\")\n",
        "        print(\"The correct answer is \", answer, \"\\n\")\n",
        "\n",
        "# One-step multiply\n",
        "def one_step_mult():\n",
        "    # Uses string_frac(<input string>)\n",
        "    import random\n",
        "    a = random.randint(1,11)\n",
        "    b = random.randint(2,24)\n",
        "    print(a, \"x = \", b)\n",
        "    ans_in = (input(\"x = \"))\n",
        "    answer = b/a\n",
        "    # test\n",
        "    if string_frac(ans_in)==answer:\n",
        "        print(\"Correct! \\n\")\n",
        "    else:\n",
        "        print(\"Try again\")\n",
        "        print(\"The correct answer is \", answer, \"\\n\")\n",
        "\n"
      ],
      "metadata": {
        "id": "EDb4C13-Avt9"
      },
      "execution_count": null,
      "outputs": []
    },
    {
      "cell_type": "markdown",
      "source": [
        "Can't do string to fraction"
      ],
      "metadata": {
        "id": "7cS0UihuLnot"
      }
    },
    {
      "cell_type": "code",
      "source": [
        "print(3/4)\n"
      ],
      "metadata": {
        "id": "b2kw4OFGLzaE",
        "colab": {
          "base_uri": "https://localhost:8080/"
        },
        "outputId": "fff5a46d-b523-4bae-f2dd-ac13aa4dcb60"
      },
      "execution_count": null,
      "outputs": [
        {
          "output_type": "stream",
          "name": "stdout",
          "text": [
            "0.75\n"
          ]
        }
      ]
    },
    {
      "cell_type": "code",
      "source": [
        "frac = float(input(\"fraction = \"))\n",
        "print(frac)"
      ],
      "metadata": {
        "id": "4bURGFMH-yXF"
      },
      "execution_count": null,
      "outputs": []
    },
    {
      "cell_type": "markdown",
      "source": [
        "Run this code to practice solving one-step and two-step problems. It will give you 12 practice problems. If you don't get them all correct, you can run this again to get more practice. Your answer can be a fraction, decimal, or whole number."
      ],
      "metadata": {
        "id": "I4b6c_ZSBr7i"
      }
    },
    {
      "cell_type": "code",
      "execution_count": null,
      "metadata": {
        "colab": {
          "base_uri": "https://localhost:8080/"
        },
        "id": "rBlgrbLbBwYS",
        "outputId": "2d150090-d9f0-4c05-a006-a540870c2dc7"
      },
      "outputs": [
        {
          "output_type": "stream",
          "name": "stdout",
          "text": [
            "x +  5  =  7\n",
            "x = 2\n",
            "Correct! \n",
            "\n",
            "-1  + x =  8\n",
            "x = 9\n",
            "Correct! \n",
            "\n",
            "8 x =  2\n",
            "Round your answer to two decimal places.\n",
            "x = 0.250\n",
            "Correct! \n",
            "\n",
            "x/ 1  =  6\n",
            "x = 6\n",
            "Correct! \n",
            "\n",
            "8 x +  -1  =  13\n",
            "Round answer to two decimal places\n",
            "x = 1.75\n",
            "Correct! \n",
            "\n",
            " \n",
            "x +  1  =  15\n",
            "x = 14\n",
            "Correct! \n",
            "\n",
            "-7  + x =  6\n",
            "x = 13\n",
            "Correct! \n",
            "\n",
            "5 x =  19\n",
            "Round your answer to two decimal places.\n",
            "x = 3.80\n",
            "Correct! \n",
            "\n",
            "x/ 7  =  9\n",
            "x = 63\n",
            "Correct! \n",
            "\n",
            "6 x +  -6  =  15\n",
            "Round answer to two decimal places\n",
            "x = 3.50\n",
            "Correct! \n",
            "\n",
            " \n",
            "9 x +  8  =  24\n",
            "Round answer to two decimal places\n",
            "x = 1.78\n",
            "Correct! \n",
            "\n",
            "5 x +  7  =  30\n",
            "Round answer to two decimal places\n",
            "x = 4.60\n",
            "Correct! \n",
            "\n"
          ]
        }
      ],
      "source": [
        "# converts string input (even fractions) to float\n",
        "def string_frac(in_string):\n",
        "    if \"/\" in in_string:\n",
        "        nd = in_string.split(\"/\")\n",
        "        n = float(nd[0])\n",
        "        d = float(nd[1])\n",
        "        ans = n/d\n",
        "        return ans\n",
        "    else:\n",
        "        ans = float(in_string)\n",
        "        return ans\n",
        "\n",
        "\n",
        "# Simplest one-step addition\n",
        "def one_step_add():\n",
        "    import random\n",
        "    # Display problem\n",
        "    a = random.randint(-4,10)\n",
        "    b = random.randint(2,24)\n",
        "    print(\"x + \", a, \" = \", b)\n",
        "    ans = float(input(\"x = \"))\n",
        "    answer = b-a\n",
        "    # Test input\n",
        "    if ans==answer:\n",
        "        print(\"Correct! \\n\")\n",
        "    else:\n",
        "        print(\"Try again\")\n",
        "        print(\"The correct answer is \", answer, \"\\n\")\n",
        "\n",
        "\n",
        "# One-step additon with negaive numbers\n",
        "def one_step_subtract():\n",
        "    import random\n",
        "    a = random.randint(-19,-1)\n",
        "    b = random.randint(2,24)\n",
        "    print(a, \" + x = \", b)\n",
        "    ans = float(input(\"x = \"))\n",
        "    # test\n",
        "    answer = b-a\n",
        "    if ans==answer:\n",
        "        print(\"Correct! \\n\")\n",
        "    else:\n",
        "        print(\"Try again\")\n",
        "        print(\"The correct answer is \", answer, \"\\n\")\n",
        "\n",
        "# One-step multiply\n",
        "def one_step_mult():\n",
        "    # Uses string_frac(<input string>)\n",
        "    import random\n",
        "    a = random.randint(1,11)\n",
        "    b = random.randint(2,24)\n",
        "    print(a, \"x = \", b)\n",
        "    print(\"Round your answer to two decimal places.\")\n",
        "    ans_in = (input(\"x = \"))\n",
        "    answer = round(b/a,2)\n",
        "    # test\n",
        "    if string_frac(ans_in)==answer:\n",
        "        print(\"Correct! \\n\")\n",
        "    else:\n",
        "        print(\"Try again\")\n",
        "        print(\"The correct answer is \", answer, \"\\n\")\n",
        "\n",
        "\n",
        "# One-step divide\n",
        "def one_step_div():\n",
        "    import random\n",
        "    a = random.randint(1,11)\n",
        "    b = random.randint(2,24)\n",
        "    print(\"x/\", a, \" = \", b)\n",
        "    ans = float(input(\"x = \"))\n",
        "    answer = b*a\n",
        "    # test\n",
        "    if ans==answer:\n",
        "        print(\"Correct! \\n\")\n",
        "    else:\n",
        "        print(\"Try again\")\n",
        "        print(\"The correct answer is \", answer, \"\\n\")\n",
        "\n",
        "\n",
        "# Two-step problems\n",
        "def two_step():\n",
        "    import random\n",
        "    # Uses string_frac()\n",
        "    a = random.randint(1,11)\n",
        "    b = random.randint(-7,12)\n",
        "    c = random.randint(2,36)\n",
        "    print(a, \"x + \", b, \" = \", c)\n",
        "    print(\"Round answer to two decimal places\")\n",
        "    ans_in = input(\"x = \")\n",
        "    answer = (c-b)/a\n",
        "    # test\n",
        "    if round(string_frac(ans_in),2)==round(answer,2):\n",
        "        print(\"Correct! \\n\")\n",
        "    else:\n",
        "        print(\"Try again\")\n",
        "        print(\"The correct answer is \", answer, \"\\n\")\n",
        "\n",
        "\n",
        "# test loop\n",
        "for a in range(2):\n",
        "    one_step_add()\n",
        "    one_step_subtract()\n",
        "    one_step_mult()\n",
        "    one_step_div()\n",
        "    two_step()\n",
        "    print(\" \")\n",
        "\n",
        "two_step()\n",
        "two_step()\n"
      ]
    },
    {
      "cell_type": "code",
      "source": [
        "example = 3*x - 12\n",
        "equation = Eq(example,0)\n",
        "solution = solve(equation,x)\n",
        "print(solution)"
      ],
      "metadata": {
        "colab": {
          "base_uri": "https://localhost:8080/"
        },
        "id": "8g0_mCNUBxwc",
        "outputId": "eb3a9437-ab57-4a46-be52-8c6f95e8461e"
      },
      "execution_count": null,
      "outputs": [
        {
          "output_type": "stream",
          "name": "stdout",
          "text": [
            "[4]\n"
          ]
        }
      ]
    },
    {
      "cell_type": "markdown",
      "source": [
        "#Learn fractions and decimals"
      ],
      "metadata": {
        "id": "D5F_md4VWCBK"
      }
    },
    {
      "cell_type": "markdown",
      "source": [
        "Positive and negative exponents"
      ],
      "metadata": {
        "id": "-jJISeLWBmPO"
      }
    },
    {
      "cell_type": "code",
      "source": [
        "print(10**1)\n",
        "print(10**2)\n",
        "print(10**3)\n",
        "\n",
        "print(10**0)\n",
        "\n",
        "print(10**-1)\n",
        "print(10**-2)\n",
        "print(10**-3)\n"
      ],
      "metadata": {
        "id": "NkMTAVF0BlqE",
        "colab": {
          "base_uri": "https://localhost:8080/"
        },
        "outputId": "7341b7b7-3d1f-4a76-8755-1ba3d3606b3e"
      },
      "execution_count": null,
      "outputs": [
        {
          "output_type": "stream",
          "name": "stdout",
          "text": [
            "10\n",
            "100\n",
            "1000\n",
            "1\n",
            "0.1\n",
            "0.01\n",
            "0.001\n"
          ]
        }
      ]
    },
    {
      "cell_type": "markdown",
      "source": [
        "User input comes in as a string. You can find the length of the string"
      ],
      "metadata": {
        "id": "M6tAOp4pDAtB"
      }
    },
    {
      "cell_type": "code",
      "source": [
        "text = input(\"Enter a number\")\n",
        "print(text)\n",
        "\n",
        "print(len(text))\n",
        "\n",
        "# error - can't do math here\n",
        "# print(text+3)\n"
      ],
      "metadata": {
        "id": "pzYatQcjCWhp",
        "colab": {
          "base_uri": "https://localhost:8080/"
        },
        "outputId": "671dcf60-b3ed-4075-cbca-70bc9fa7b9a0"
      },
      "execution_count": null,
      "outputs": [
        {
          "output_type": "stream",
          "name": "stdout",
          "text": [
            "Enter a number.9867\n",
            ".9867\n",
            "5\n"
          ]
        }
      ]
    },
    {
      "cell_type": "markdown",
      "source": [
        "Cast input as a `float` or `int` variable"
      ],
      "metadata": {
        "id": "3x1_knXsDG29"
      }
    },
    {
      "cell_type": "code",
      "source": [
        "text = input(\"Enter a number\")\n",
        "num = float(text)\n",
        "print(num + 4)\n"
      ],
      "metadata": {
        "id": "8mtkOWLXDPZK",
        "colab": {
          "base_uri": "https://localhost:8080/"
        },
        "outputId": "22163034-8220-417d-92fa-3cb5259cede8"
      },
      "execution_count": null,
      "outputs": [
        {
          "output_type": "stream",
          "name": "stdout",
          "text": [
            "Enter a number1.89\n",
            "5.89\n"
          ]
        }
      ]
    },
    {
      "cell_type": "markdown",
      "source": [
        "Now put it all together"
      ],
      "metadata": {
        "id": "MB7AkCnVEz7N"
      }
    },
    {
      "cell_type": "code",
      "execution_count": null,
      "metadata": {
        "id": "pDaZckUyBKRl",
        "colab": {
          "base_uri": "https://localhost:8080/"
        },
        "outputId": "d3ab004e-215f-40c5-8f6e-1fc3c2f1ec25"
      },
      "outputs": [
        {
          "output_type": "stream",
          "name": "stdout",
          "text": [
            "Enter a decimal number to convert: 9.9\n",
            "The decimal is  9.9\n",
            "The fraction is  990 / 100\n",
            "The percent is  990.0  %\n"
          ]
        }
      ],
      "source": [
        "\n",
        "# Get string input, which will include a decimal point\n",
        "digits = input(\"Enter a decimal number to convert: \")\n",
        "\n",
        "# Get number of decimal places as an integer\n",
        "exponent = int(len(digits))-1\n",
        "\n",
        "# Convert the input to a float number\n",
        "n = float(digits)\n",
        "\n",
        "# Use the exponent to get the numerator\n",
        "numerator = int(n * 10**exponent)\n",
        "\n",
        "# Use the expoent to get the denominator\n",
        "denominator = 10**exponent\n",
        "\n",
        "# percent is the first two decimal places\n",
        "percent = n * 100\n",
        "\n",
        "# Output\n",
        "print(\"The decimal is \", n)\n",
        "print(\"The fraction is \", numerator, \"/\", denominator)\n",
        "print(\"The percent is \", percent, \" %\")\n",
        "\n"
      ]
    },
    {
      "cell_type": "markdown",
      "source": [
        "Factor an expression"
      ],
      "metadata": {
        "id": "ob2Sau2URkIJ"
      }
    },
    {
      "cell_type": "code",
      "source": [
        "import sympy\n",
        "from sympy import *\n",
        "import math\n",
        "\n",
        "var('x y')\n",
        "\n",
        "# Equation to factor\n",
        "eq = x**3 - 2*x**2 - 5*x + 6\n",
        "\n",
        "\n",
        "sympy.factor(eq)\n"
      ],
      "metadata": {
        "colab": {
          "base_uri": "https://localhost:8080/",
          "height": 39
        },
        "id": "6D61EWpHRo2M",
        "outputId": "360c028e-7706-4002-89ac-682578355d77"
      },
      "execution_count": null,
      "outputs": [
        {
          "output_type": "execute_result",
          "data": {
            "text/plain": [
              "(x - 3)*(x - 1)*(x + 2)"
            ],
            "text/latex": "$\\displaystyle \\left(x - 3\\right) \\left(x - 1\\right) \\left(x + 2\\right)$"
          },
          "metadata": {},
          "execution_count": 1
        }
      ]
    },
    {
      "cell_type": "markdown",
      "source": [
        "Solve for a variable\n"
      ],
      "metadata": {
        "id": "5HCoVKn5P3kd"
      }
    },
    {
      "cell_type": "code",
      "execution_count": null,
      "metadata": {
        "id": "egdhbgMnYPYA"
      },
      "outputs": [],
      "source": [
        "from sympy import *\n",
        "import math\n",
        "\n",
        "# Identify all variables\n",
        "var('a b c d x')\n",
        "\n",
        "# Left and right sides of the equal sign\n",
        "left = 0\n",
        "right = a*x**2 + b*x + c\n",
        "\n",
        "# Variable to solve for\n",
        "variable = x\n",
        "\n",
        "# Sympy equation left = right\n",
        "eq1 = Eq(left,right)\n",
        "\n",
        "# Sympy solve for that variable\n",
        "sol = solve(eq1,variable)\n",
        "\n",
        "# Show factored results\n",
        "for s in sol:\n",
        "    print(variable, \" = \", s)\n"
      ]
    },
    {
      "cell_type": "markdown",
      "source": [
        "Run this code to generate some practice problems"
      ],
      "metadata": {
        "id": "tbUQXIqJwzgm"
      }
    },
    {
      "cell_type": "code",
      "execution_count": null,
      "metadata": {
        "id": "tbyFnUTI6PD2",
        "colab": {
          "base_uri": "https://localhost:8080/"
        },
        "outputId": "fa516d72-96f5-4835-eb6b-7e5abbe17e96"
      },
      "outputs": [
        {
          "output_type": "stream",
          "name": "stdout",
          "text": [
            "Convert the following decimal to a fraction\n",
            "Just use the / to write your fraction\n",
            "0.86\n",
            "Fraction: 86/100\n",
            "Correct! \n",
            "\n",
            "Convert the following fraction to a percent\n",
            "67 / 136\n",
            "Round your answer to two decimal places\n",
            "Percent: 49.26\n",
            "Correct!\n",
            " \n",
            "Convert the following decimal to a fraction\n",
            "Just use the / to write your fraction\n",
            "0.878\n",
            "Fraction: 878/1000\n",
            "Correct! \n",
            "\n",
            "Convert the following fraction to a percent\n",
            "47 / 50\n",
            "Round your answer to two decimal places\n",
            "Percent: 94.00\n",
            "Correct!\n",
            " \n",
            "Convert the following decimal to a fraction\n",
            "Just use the / to write your fraction\n",
            "0.8\n",
            "Fraction: 8/10\n",
            "Correct! \n",
            "\n",
            "Convert the following fraction to a percent\n",
            "62 / 78\n",
            "Round your answer to two decimal places\n",
            "Percent: 79.49\n",
            "Correct!\n",
            " \n"
          ]
        }
      ],
      "source": [
        "# converts string input (even fractions) to float\n",
        "def string_frac(in_string):\n",
        "    if \"/\" in in_string:\n",
        "        nd = in_string.split(\"/\")\n",
        "        n = float(nd[0])\n",
        "        d = float(nd[1])\n",
        "        ans = n/d\n",
        "        return ans\n",
        "    else:\n",
        "        ans = float(in_string)\n",
        "        return ans\n",
        "\n",
        "\n",
        "# Decimal to fraction\n",
        "def dec_to_frac_test():\n",
        "    import random\n",
        "    import math\n",
        "    # Uses string_frac()\n",
        "    print(\"Convert the following decimal to a fraction\")\n",
        "    print(\"Just use the / to write your fraction\")\n",
        "    places = random.randint(1,4)\n",
        "    decimal = round(random.random(), places)\n",
        "    print(decimal)\n",
        "    d = 10**places\n",
        "    n = decimal*d\n",
        "    ans_in = input(\"Fraction: \")\n",
        "    if string_frac(ans_in)==decimal:\n",
        "        print(\"Correct! \\n\")\n",
        "    else:\n",
        "        print(\"Try again\")\n",
        "        print(\"The answer is \", n, \"/\", d)\n",
        "\n",
        "\n",
        "# Fraction to percent\n",
        "def frac_to_perc_test():\n",
        "    import random\n",
        "    print(\"Convert the following fraction to a percent\")\n",
        "    n = round(random.randint(1,99))\n",
        "    d = round(random.randint(2,200))\n",
        "    print(n, \"/\", d)\n",
        "    percent = round(n/d*100,2)\n",
        "    print(\"Round your answer to two decimal places\")\n",
        "    ans = float(input(\"Percent: \"))\n",
        "    if ans==percent:\n",
        "        print(\"Correct!\")\n",
        "    else:\n",
        "        print(\"Try again\")\n",
        "        print(\"The answer is \", percent)\n",
        "\n",
        "\n",
        "# test loop\n",
        "for a in range(3):\n",
        "    dec_to_frac_test()\n",
        "    frac_to_perc_test()\n",
        "    print(\" \")\n"
      ]
    },
    {
      "cell_type": "markdown",
      "source": [
        "#Learn functions and graphing\n"
      ],
      "metadata": {
        "id": "67gMetWnWdes"
      }
    },
    {
      "cell_type": "markdown",
      "source": [
        "Function and a table of (x,y) values"
      ],
      "metadata": {
        "id": "EJWEoaa46XM6"
      }
    },
    {
      "cell_type": "code",
      "source": [
        "x = 5\n",
        "y = 4*x + 3 # The function\n",
        "\n",
        "print(x,\",\",y)\n",
        "\n",
        "print(\"x \\t y\")\n",
        "\n",
        "for x in range(11):\n",
        "    y = 4*x + 3  # The function\n",
        "    print(x, \"\\t\", y)\n",
        "\n"
      ],
      "metadata": {
        "id": "CgYgZ_bX6V24",
        "colab": {
          "base_uri": "https://localhost:8080/"
        },
        "outputId": "120faed5-9005-4f41-9001-4e20c7e588e2"
      },
      "execution_count": null,
      "outputs": [
        {
          "output_type": "stream",
          "name": "stdout",
          "text": [
            "5 , 23\n",
            "x \t y\n",
            "0 \t 3\n",
            "1 \t 7\n",
            "2 \t 11\n",
            "3 \t 15\n",
            "4 \t 19\n",
            "5 \t 23\n",
            "6 \t 27\n",
            "7 \t 31\n",
            "8 \t 35\n",
            "9 \t 39\n",
            "10 \t 43\n"
          ]
        }
      ]
    },
    {
      "cell_type": "markdown",
      "source": [
        "Defning a Python function"
      ],
      "metadata": {
        "id": "ngdxkyY5sj79"
      }
    },
    {
      "cell_type": "code",
      "source": [
        "def f(x):\n",
        "   y = 4*x + 3\n",
        "   return y\n",
        "\n",
        "print(5, \",\", f(5))\n",
        "\n",
        "# Next, a loop\n",
        "for x in range(11):\n",
        "    print(x, \"\\t\", f(x))"
      ],
      "metadata": {
        "id": "pimaql3Wsnkz",
        "colab": {
          "base_uri": "https://localhost:8080/"
        },
        "outputId": "0c737eb5-213c-441e-8dfb-acb3c83c75f2"
      },
      "execution_count": null,
      "outputs": [
        {
          "output_type": "stream",
          "name": "stdout",
          "text": [
            "5 , 23\n",
            "0 \t 3\n",
            "1 \t 7\n",
            "2 \t 11\n",
            "3 \t 15\n",
            "4 \t 19\n",
            "5 \t 23\n",
            "6 \t 27\n",
            "7 \t 31\n",
            "8 \t 35\n",
            "9 \t 39\n",
            "10 \t 43\n"
          ]
        }
      ]
    },
    {
      "cell_type": "markdown",
      "source": [
        "<br>\n",
        "<br>\n",
        "<br>\n",
        "Next we will look a graphing functions...\n",
        "<br>\n",
        "<br>\n",
        "<br>"
      ],
      "metadata": {
        "id": "qnLORdwYqzzB"
      }
    },
    {
      "cell_type": "markdown",
      "source": [
        "Basic blank graph"
      ],
      "metadata": {
        "id": "rYuehQvzp_uq"
      }
    },
    {
      "cell_type": "code",
      "execution_count": null,
      "metadata": {
        "id": "f99FK6TVpM9d",
        "colab": {
          "base_uri": "https://localhost:8080/",
          "height": 435
        },
        "outputId": "b6c876d1-f358-4e38-ea95-0255f10e4ff7"
      },
      "outputs": [
        {
          "output_type": "display_data",
          "data": {
            "text/plain": [
              "<Figure size 640x480 with 1 Axes>"
            ],
            "image/png": "[encoded data removed]"
          },
          "metadata": {}
        }
      ],
      "source": [
        "import matplotlib.pyplot as plt\n",
        "\n",
        "fig, ax = plt.subplots()\n",
        "plt.show()\n"
      ]
    },
    {
      "cell_type": "markdown",
      "source": [
        "Define dimensions of graph"
      ],
      "metadata": {
        "id": "KnxUvW6vqQX6"
      }
    },
    {
      "cell_type": "code",
      "source": [
        "import matplotlib.pyplot as plt\n",
        "\n",
        "fig, ax = plt.subplots()\n",
        "\n",
        "# Dimensions\n",
        "plt.axis([-10,10,-10,10])\n",
        "\n",
        "plt.show()\n"
      ],
      "metadata": {
        "id": "b__2RYX3qEI2",
        "colab": {
          "base_uri": "https://localhost:8080/",
          "height": 435
        },
        "outputId": "53c2f4fd-234d-4252-c70d-cedb2b90954b"
      },
      "execution_count": null,
      "outputs": [
        {
          "output_type": "display_data",
          "data": {
            "text/plain": [
              "<Figure size 640x480 with 1 Axes>"
            ],
            "image/png": "[encoded data removed]"
          },
          "metadata": {}
        }
      ]
    },
    {
      "cell_type": "markdown",
      "source": [
        "A better way to set dimensions"
      ],
      "metadata": {
        "id": "Ks1e5Rh5qcDQ"
      }
    },
    {
      "cell_type": "code",
      "source": [
        "import matplotlib.pyplot as plt\n",
        "\n",
        "xmin = -10\n",
        "xmax = 10\n",
        "ymin = -10\n",
        "ymax = 20\n",
        "\n",
        "fig, ax = plt.subplots()\n",
        "plt.axis([xmin,xmax,ymin,ymax]) # window size\n",
        "plt.show()\n"
      ],
      "metadata": {
        "id": "J_V3UffyqaS6",
        "colab": {
          "base_uri": "https://localhost:8080/",
          "height": 435
        },
        "outputId": "914fe13a-9a49-49e2-ff3c-315d2411e774"
      },
      "execution_count": null,
      "outputs": [
        {
          "output_type": "display_data",
          "data": {
            "text/plain": [
              "<Figure size 640x480 with 1 Axes>"
            ],
            "image/png": "[encoded data removed]"
          },
          "metadata": {}
        }
      ]
    },
    {
      "cell_type": "markdown",
      "source": [
        "Display axis lines"
      ],
      "metadata": {
        "id": "NTePeZTOqpYB"
      }
    },
    {
      "cell_type": "code",
      "source": [
        "import matplotlib.pyplot as plt\n",
        "\n",
        "xmin = -10\n",
        "xmax = 10\n",
        "ymin = -10\n",
        "ymax = 10\n",
        "\n",
        "fig, ax = plt.subplots()\n",
        "plt.axis([xmin,xmax,ymin,ymax]) # window size\n",
        "plt.plot([xmin,xmax],[0,0],'b') # blue x axis\n",
        "plt.plot([0,0],[ymin,ymax], 'b') # blue y axis\n",
        "\n",
        "plt.show()\n"
      ],
      "metadata": {
        "id": "QRUF6vE1qn7Z",
        "colab": {
          "base_uri": "https://localhost:8080/",
          "height": 435
        },
        "outputId": "107321f9-557c-477a-da5b-56072bee8f27"
      },
      "execution_count": null,
      "outputs": [
        {
          "output_type": "display_data",
          "data": {
            "text/plain": [
              "<Figure size 640x480 with 1 Axes>"
            ],
            "image/png": "[encoded data removed]"
          },
          "metadata": {}
        }
      ]
    },
    {
      "cell_type": "markdown",
      "source": [
        "Plot one point"
      ],
      "metadata": {
        "id": "PixodkBKq6uR"
      }
    },
    {
      "cell_type": "code",
      "source": [
        "import matplotlib.pyplot as plt\n",
        "\n",
        "xmin = -10\n",
        "xmax = 10\n",
        "ymin = -10\n",
        "ymax = 10\n",
        "\n",
        "fig, ax = plt.subplots()\n",
        "plt.axis([xmin,xmax,ymin,ymax]) # window size\n",
        "plt.plot([xmin,xmax],[0,0],'b') # blue x axis\n",
        "plt.plot([0,0],[ymin,ymax], 'b') # blue y axis\n",
        "\n",
        "\n",
        "plt.plot([5],[4], 'ro')\n",
        "\n",
        "plt.show()\n"
      ],
      "metadata": {
        "id": "3wBcQwCYq5bp",
        "colab": {
          "base_uri": "https://localhost:8080/",
          "height": 435
        },
        "outputId": "b74652a5-d013-4098-e3a0-b283d32374ad"
      },
      "execution_count": null,
      "outputs": [
        {
          "output_type": "display_data",
          "data": {
            "text/plain": [
              "<Figure size 640x480 with 1 Axes>"
            ],
            "image/png": "[encoded data removed]"
          },
          "metadata": {}
        }
      ]
    },
    {
      "cell_type": "markdown",
      "source": [
        "Plot several points as a function"
      ],
      "metadata": {
        "id": "bBe5zGMorESi"
      }
    },
    {
      "cell_type": "code",
      "source": [
        "import matplotlib.pyplot as plt\n",
        "\n",
        "xmin = -10\n",
        "xmax = 10\n",
        "ymin = -10\n",
        "ymax = 10\n",
        "\n",
        "fig, ax = plt.subplots()\n",
        "plt.axis([xmin,xmax,ymin,ymax]) # window size\n",
        "plt.plot([xmin,xmax],[0,0],'b') # blue x axis\n",
        "plt.plot([0,0],[ymin,ymax], 'b') # blue y axis\n",
        "\n",
        "for x in range(10):\n",
        "    y = 0.5*x + 1\n",
        "    plt.plot([x],[y], 'ro')\n",
        "\n",
        "plt.show()\n"
      ],
      "metadata": {
        "colab": {
          "base_uri": "https://localhost:8080/",
          "height": 435
        },
        "id": "Xt1z3DcUrCR5",
        "outputId": "d9f88b06-d28d-4e5f-dd59-4c5b0123f5cd"
      },
      "execution_count": null,
      "outputs": [
        {
          "output_type": "display_data",
          "data": {
            "text/plain": [
              "<Figure size 640x480 with 1 Axes>"
            ],
            "image/png": "[encoded data removed]"
          },
          "metadata": {}
        }
      ]
    },
    {
      "cell_type": "markdown",
      "source": [
        "Graph and table of (x,y) values"
      ],
      "metadata": {
        "id": "8IyMfHlGsVaL"
      }
    },
    {
      "cell_type": "code",
      "source": [
        "import matplotlib.pyplot as plt\n",
        "\n",
        "xmin = -10\n",
        "xmax = 10\n",
        "ymin = -10\n",
        "ymax = 10\n",
        "\n",
        "fig, ax = plt.subplots()\n",
        "plt.axis([xmin,xmax,ymin,ymax]) # window size\n",
        "plt.plot([xmin,xmax],[0,0],'b') # blue x axis\n",
        "plt.plot([0,0],[ymin,ymax], 'b') # blue y axis\n",
        "\n",
        "print(\"x \\t y\")\n",
        "for x in range(xmin, xmax+1):\n",
        "    y = 0.5*x + 1\n",
        "    plt.plot([x],[y], 'ro')\n",
        "    print(x,\"\\t\",y)\n",
        "\n",
        "plt.show()\n"
      ],
      "metadata": {
        "id": "wyhHcBr2sTqb",
        "colab": {
          "base_uri": "https://localhost:8080/",
          "height": 817
        },
        "outputId": "48c5cfe7-103c-4103-8f0a-f1ea293e66d4"
      },
      "execution_count": null,
      "outputs": [
        {
          "output_type": "stream",
          "name": "stdout",
          "text": [
            "x \t y\n",
            "-10 \t -4.0\n",
            "-9 \t -3.5\n",
            "-8 \t -3.0\n",
            "-7 \t -2.5\n",
            "-6 \t -2.0\n",
            "-5 \t -1.5\n",
            "-4 \t -1.0\n",
            "-3 \t -0.5\n",
            "-2 \t 0.0\n",
            "-1 \t 0.5\n",
            "0 \t 1.0\n",
            "1 \t 1.5\n",
            "2 \t 2.0\n",
            "3 \t 2.5\n",
            "4 \t 3.0\n",
            "5 \t 3.5\n",
            "6 \t 4.0\n",
            "7 \t 4.5\n",
            "8 \t 5.0\n",
            "9 \t 5.5\n",
            "10 \t 6.0\n"
          ]
        },
        {
          "output_type": "display_data",
          "data": {
            "text/plain": [
              "<Figure size 640x480 with 1 Axes>"
            ],
            "image/png": "[encoded data removed]"
          },
          "metadata": {}
        }
      ]
    },
    {
      "cell_type": "markdown",
      "source": [
        "Loop through function inputs"
      ],
      "metadata": {
        "id": "YrPbhUhQY0VH"
      }
    },
    {
      "cell_type": "code",
      "execution_count": null,
      "metadata": {
        "id": "yJiVB8wdHRxS",
        "colab": {
          "base_uri": "https://localhost:8080/",
          "height": 435
        },
        "outputId": "daa5873c-770c-42c9-caa5-2cf880bc49b3"
      },
      "outputs": [
        {
          "output_type": "display_data",
          "data": {
            "text/plain": [
              "<Figure size 640x480 with 1 Axes>"
            ],
            "image/png": "[encoded data removed]"
          },
          "metadata": {}
        }
      ],
      "source": [
        "import matplotlib.pyplot as plt\n",
        "\n",
        "xmin = -10\n",
        "xmax = 10\n",
        "ymin = -10\n",
        "ymax = 10\n",
        "\n",
        "fig, ax = plt.subplots()\n",
        "plt.axis([xmin,xmax,ymin,ymax]) # window size\n",
        "plt.plot([xmin,xmax],[0,0],'b') # blue x axis\n",
        "plt.plot([0,0],[ymin,ymax], 'b') # blue y axis\n",
        "\n",
        "for x in range(10):\n",
        "    y = 0.5*x + 1\n",
        "    plt.plot([x],[y], 'ro')\n",
        "\n",
        "plt.show()\n"
      ]
    },
    {
      "cell_type": "markdown",
      "source": [
        "Use an array as inputs"
      ],
      "metadata": {
        "id": "vvuzPPbYY5N7"
      }
    },
    {
      "cell_type": "code",
      "source": [
        "import matplotlib.pyplot as plt\n",
        "import numpy as np\n",
        "\n",
        "xmin = -10\n",
        "xmax = 10\n",
        "ymin = -10\n",
        "ymax = 10\n",
        "points = 2*(xmax-xmin)\n",
        "x = np.linspace(xmin, xmax, points)\n",
        "\n",
        "fig, ax = plt.subplots()\n",
        "plt.axis([xmin,xmax,ymin,ymax]) # window size\n",
        "plt.plot([xmin,xmax],[0,0],'b') # blue x axis\n",
        "plt.plot([0,0],[ymin,ymax], 'b') # blue y axis\n",
        "\n",
        "y = 2*x +1\n",
        "plt.plot(x,y, 'pink')\n",
        "\n",
        "plt.show()"
      ],
      "metadata": {
        "colab": {
          "base_uri": "https://localhost:8080/",
          "height": 435
        },
        "id": "16HtjpNAIJOm",
        "outputId": "7a61f812-3351-46e1-f3b6-27a0dfb678b0"
      },
      "execution_count": null,
      "outputs": [
        {
          "output_type": "display_data",
          "data": {
            "text/plain": [
              "<Figure size 640x480 with 1 Axes>"
            ],
            "image/png": "[encoded data removed]"
          },
          "metadata": {}
        }
      ]
    },
    {
      "cell_type": "markdown",
      "source": [
        "More ways to customize a graph"
      ],
      "metadata": {
        "id": "eEKGtD0AZEHd"
      }
    },
    {
      "cell_type": "code",
      "source": [
        "import matplotlib.pyplot as plt\n",
        "import numpy as np\n",
        "\n",
        "xmin = -10\n",
        "xmax = 10\n",
        "ymin = -10\n",
        "ymax = 10\n",
        "points = 2*(xmax-xmin)\n",
        "x = np.linspace(xmin, xmax, points)\n",
        "\n",
        "fig, ax = plt.subplots()\n",
        "plt.axis([xmin,xmax,ymin,ymax]) # window size\n",
        "plt.plot([xmin,xmax],[0,0],'b') # blue x axis\n",
        "plt.plot([0,0],[ymin,ymax], 'b') # blue y axis\n",
        "\n",
        "ax.set_xlabel(\"x values\")\n",
        "ax.set_ylabel(\"y values\")\n",
        "ax.set_title(\"Some Graph\")\n",
        "ax.grid(True)\n",
        "\n",
        "ax.set_xticks(np.arange(xmin, xmax, 1))\n",
        "ax.set_yticks(np.arange(ymin, ymax, 1))\n",
        "\n",
        "y = 2*x +1\n",
        "plt.plot(x,y, label='y=2x+1')\n",
        "plt.plot([4],[6], 'ro', label='point')\n",
        "plt.plot(x,3*x, label='steeper line')\n",
        "plt.legend()\n",
        "plt.show()\n"
      ],
      "metadata": {
        "colab": {
          "base_uri": "https://localhost:8080/",
          "height": 472
        },
        "id": "GLaAeuGxX2DU",
        "outputId": "fabf81b1-8bdf-4aa1-9d75-5310a5eb5e23"
      },
      "execution_count": null,
      "outputs": [
        {
          "output_type": "display_data",
          "data": {
            "text/plain": [
              "<Figure size 640x480 with 1 Axes>"
            ],
            "image/png": "[encoded data removed]"
          },
          "metadata": {}
        }
      ]
    },
    {
      "cell_type": "markdown",
      "source": [
        "Loop through function inputs"
      ],
      "metadata": {
        "id": "OZ7lSCUWJ9iC"
      }
    },
    {
      "cell_type": "code",
      "execution_count": null,
      "metadata": {
        "colab": {
          "base_uri": "https://localhost:8080/",
          "height": 435
        },
        "id": "uMbL4X8XJ9iC",
        "outputId": "8309bafd-5b19-46ed-be13-46227cb99733"
      },
      "outputs": [
        {
          "output_type": "display_data",
          "data": {
            "text/plain": [
              "<Figure size 640x480 with 1 Axes>"
            ],
            "image/png": "[encoded data removed]"
          },
          "metadata": {}
        }
      ],
      "source": [
        "import matplotlib.pyplot as plt\n",
        "\n",
        "xmin = -10\n",
        "xmax = 10\n",
        "ymin = -10\n",
        "ymax = 10\n",
        "\n",
        "fig, ax = plt.subplots()\n",
        "plt.axis([xmin,xmax,ymin,ymax]) # window size\n",
        "plt.plot([xmin,xmax],[0,0],'b') # blue x axis\n",
        "plt.plot([0,0],[ymin,ymax], 'b') # blue y axis\n",
        "\n",
        "for x in range(10):\n",
        "    y = 0.5*x + 1\n",
        "    plt.plot([x],[y], 'ro')\n",
        "\n",
        "plt.show()\n"
      ]
    },
    {
      "cell_type": "markdown",
      "source": [
        "Use an array as inputs"
      ],
      "metadata": {
        "id": "Y9824HdnJ9iD"
      }
    },
    {
      "cell_type": "code",
      "source": [
        "import matplotlib.pyplot as plt\n",
        "import numpy as np\n",
        "\n",
        "xmin = -10\n",
        "xmax = 10\n",
        "ymin = -10\n",
        "ymax = 10\n",
        "points = 2*(xmax-xmin)\n",
        "x = np.linspace(xmin, xmax, points)\n",
        "\n",
        "fig, ax = plt.subplots()\n",
        "plt.axis([xmin,xmax,ymin,ymax]) # window size\n",
        "plt.plot([xmin,xmax],[0,0],'b') # blue x axis\n",
        "plt.plot([0,0],[ymin,ymax], 'b') # blue y axis\n",
        "\n",
        "y = 2*x +1\n",
        "plt.plot(x,y, 'pink')\n",
        "\n",
        "plt.show()"
      ],
      "metadata": {
        "colab": {
          "base_uri": "https://localhost:8080/",
          "height": 435
        },
        "outputId": "d4d82cdd-5490-44e6-d442-1e83e909d3fe",
        "id": "HW_HKmCyJ9iD"
      },
      "execution_count": null,
      "outputs": [
        {
          "output_type": "display_data",
          "data": {
            "text/plain": [
              "<Figure size 640x480 with 1 Axes>"
            ],
            "image/png": "[encoded data removed]"
          },
          "metadata": {}
        }
      ]
    },
    {
      "cell_type": "markdown",
      "source": [
        "More ways to customize a graph"
      ],
      "metadata": {
        "id": "81nSAnWOKGGg"
      }
    },
    {
      "cell_type": "code",
      "source": [
        "import matplotlib.pyplot as plt\n",
        "import numpy as np\n",
        "\n",
        "xmin = -10\n",
        "xmax = 10\n",
        "ymin = -10\n",
        "ymax = 10\n",
        "points = 2*(xmax-xmin)\n",
        "x = np.linspace(xmin, xmax, points)\n",
        "\n",
        "fig, ax = plt.subplots()\n",
        "plt.axis([xmin,xmax,ymin,ymax]) # window size\n",
        "plt.plot([xmin,xmax],[0,0],'b') # blue x axis\n",
        "plt.plot([0,0],[ymin,ymax], 'b') # blue y axis\n",
        "\n",
        "ax.set_xlabel(\"x values\")\n",
        "ax.set_ylabel(\"y values\")\n",
        "ax.set_title(\"Some Graph\")\n",
        "ax.grid(True)\n",
        "\n",
        "ax.set_xticks(np.arange(xmin, xmax, 1))\n",
        "ax.set_yticks(np.arange(ymin, ymax, 1))\n",
        "\n",
        "y = 2*x +1\n",
        "plt.plot(x,y, label='y=2x+1')\n",
        "plt.plot([4],[6], 'ro', label='point')\n",
        "plt.plot(x,3*x, label='steeper line')\n",
        "plt.legend()\n",
        "plt.show()\n"
      ],
      "metadata": {
        "colab": {
          "base_uri": "https://localhost:8080/",
          "height": 472
        },
        "outputId": "e562667a-47a8-4892-d0f6-9d6ce6bb66ff",
        "id": "EPayz7bPKGGh"
      },
      "execution_count": null,
      "outputs": [
        {
          "output_type": "display_data",
          "data": {
            "text/plain": [
              "<Figure size 640x480 with 1 Axes>"
            ],
            "image/png": "[encoded data removed]"
          },
          "metadata": {}
        }
      ]
    },
    {
      "cell_type": "markdown",
      "source": [
        "#Learn linear functions"
      ],
      "metadata": {
        "id": "8ckEtPQhSKae"
      }
    },
    {
      "cell_type": "code",
      "source": [
        "x1 = 1\n",
        "y1 = 7\n",
        "x2 = 2\n",
        "y2 = 10\n",
        "\n",
        "slope = (y2 - y1) / (x2 - x1)\n",
        "\n",
        "print(\"slope = \", slope)"
      ],
      "metadata": {
        "id": "2-ceeTFP6aQ7",
        "colab": {
          "base_uri": "https://localhost:8080/"
        },
        "outputId": "8f122323-516e-49c5-c281-c18c4d6fc0f3"
      },
      "execution_count": null,
      "outputs": [
        {
          "output_type": "stream",
          "name": "stdout",
          "text": [
            "slope =  3.0\n"
          ]
        }
      ]
    },
    {
      "cell_type": "markdown",
      "source": [
        "<br>\n",
        "<br>\n",
        "<br>\n",
        "Next, developing equations...\n",
        "<br>\n",
        "<br>\n",
        "<br>"
      ],
      "metadata": {
        "id": "QVaWF-Yk6kYJ"
      }
    },
    {
      "cell_type": "code",
      "execution_count": null,
      "metadata": {
        "id": "CKVgsCTmKjyw",
        "colab": {
          "base_uri": "https://localhost:8080/"
        },
        "outputId": "b480c5e5-c92c-424e-efb9-ca452aff80cf"
      },
      "outputs": [
        {
          "output_type": "stream",
          "name": "stdout",
          "text": [
            "y =  -0.06506849315068493 x +  125.12328767123287\n"
          ]
        }
      ],
      "source": [
        "x1 = 632 #1\n",
        "y1 = 84 #7\n",
        "x2 = 1800 #2\n",
        "y2 = 8 #10\n",
        "\n",
        "# The slope is \"m\"\n",
        "m = (y2 - y1) / (x2 - x1)\n",
        "\n",
        "# The y intercept is \"b\"\n",
        "b = y1 - m*x1\n",
        "\n",
        "# The full equation\n",
        "print(\"y = \", m, \"x + \", b)\n"
      ]
    },
    {
      "cell_type": "markdown",
      "source": [
        "Also display the graph"
      ],
      "metadata": {
        "id": "XxRKIPpM9RsJ"
      }
    },
    {
      "cell_type": "code",
      "source": [
        "import matplotlib.pyplot as plt\n",
        "\n",
        "x1 = 2\n",
        "y1 = 3\n",
        "x2 = 6\n",
        "y2 = 8\n",
        "\n",
        "# Develop the equation y = mx + b\n",
        "m = (y2 - y1) / (x2 - x1)\n",
        "b = y1 - m*x1\n",
        "print(\"y = \", m, \"x + \", b)\n",
        "\n",
        "# For the graph\n",
        "xmin = -10\n",
        "xmax = 10\n",
        "ymin = -10\n",
        "ymax = 10\n",
        "\n",
        "# For the line on the graph\n",
        "y3 = m*xmin + b\n",
        "y4 = m*xmax + b\n",
        "\n",
        "# Basic setup for the graph\n",
        "fig, ax = plt.subplots()\n",
        "plt.axis([xmin,xmax,ymin,ymax]) # window size\n",
        "plt.plot([xmin,xmax],[0,0],'b') # blue x axis\n",
        "plt.plot([0,0],[ymin,ymax], 'b') # blue y axis\n",
        "\n",
        "# Plot the linear function as a red line\n",
        "plt.plot([xmin,xmax],[y3,y4],'r')\n",
        "\n",
        "plt.show()\n"
      ],
      "metadata": {
        "id": "4gn7sGDENUZr",
        "colab": {
          "base_uri": "https://localhost:8080/",
          "height": 452
        },
        "outputId": "98ccd905-99f1-4c58-f6ef-43aae46e235d"
      },
      "execution_count": null,
      "outputs": [
        {
          "output_type": "stream",
          "name": "stdout",
          "text": [
            "y =  1.25 x +  0.5\n"
          ]
        },
        {
          "output_type": "display_data",
          "data": {
            "text/plain": [
              "<Figure size 640x480 with 1 Axes>"
            ],
            "image/png": "[encoded data removed]"
          },
          "metadata": {}
        }
      ]
    },
    {
      "cell_type": "markdown",
      "source": [
        "Notes and work"
      ],
      "metadata": {
        "id": "5aS6gYl3ulv5"
      }
    },
    {
      "cell_type": "code",
      "source": [
        "1500 = 10x + 500\n",
        "0 = 10x - 1000"
      ],
      "metadata": {
        "id": "agi06zzPYonA"
      },
      "execution_count": null,
      "outputs": []
    },
    {
      "cell_type": "markdown",
      "source": [
        "Solve an equation"
      ],
      "metadata": {
        "id": "h9wdH3LhuG2C"
      }
    },
    {
      "cell_type": "code",
      "source": [
        "import sympy\n",
        "from sympy import symbols\n",
        "from sympy.solvers import solve\n",
        "\n",
        "x = symbols('x')\n",
        "\n",
        "# Put the equation here\n",
        "eq = 10*x - 1000\n",
        "\n",
        "solution = solve(eq,x)\n",
        "print(\"x = \", solution[0])\n"
      ],
      "metadata": {
        "colab": {
          "base_uri": "https://localhost:8080/"
        },
        "id": "Gy6sVbqVuKRB",
        "outputId": "1964dfcc-63b4-40f5-8ca1-a4204e98d86b"
      },
      "execution_count": null,
      "outputs": [
        {
          "output_type": "stream",
          "name": "stdout",
          "text": [
            "x =  100\n"
          ]
        }
      ]
    },
    {
      "cell_type": "markdown",
      "source": [
        "Graph the solution"
      ],
      "metadata": {
        "id": "xZzkJ2-FuYxx"
      }
    },
    {
      "cell_type": "code",
      "source": [
        "import matplotlib.pyplot as plt\n",
        "import numpy as np\n",
        "\n",
        "x1 = 0\n",
        "y1 = 0\n",
        "x2 = 40\n",
        "y2 = 13\n",
        "\n",
        "# Develop the equation y = mx + b\n",
        "m = (y2 - y1) / (x2 - x1)\n",
        "b = y1 - m*x1\n",
        "print(\"y = \", m, \"x + \", b)\n",
        "\n",
        "# For the graph\n",
        "xmin = 0\n",
        "xmax = 100\n",
        "ymin = 0\n",
        "ymax = 50\n",
        "\n",
        "# For the line on the graph\n",
        "y3 = m*xmin + b\n",
        "y4 = m*xmax + b\n",
        "\n",
        "# Basic setup for the graph\n",
        "fig, ax = plt.subplots()\n",
        "plt.axis([xmin,xmax,ymin,ymax]) # window size\n",
        "plt.plot([xmin,xmax],[0,0],'b') # blue x axis\n",
        "plt.plot([0,0],[ymin,ymax], 'b') # blue y axis\n",
        "\n",
        "# Add details to the graph\n",
        "ax.set_xlabel(\"thousands\")\n",
        "ax.set_ylabel(\"tons\")\n",
        "ax.grid(True)\n",
        "#ax.set_xticks(np.arange(xmin, xmax, 2))\n",
        "#ax.set_yticks(np.arange(ymin, ymax, 1))\n",
        "\n",
        "\n",
        "# Plot the linear function as a red line\n",
        "plt.plot([xmin,xmax],[y3,y4],'r')\n",
        "\n",
        "plt.show()\n"
      ],
      "metadata": {
        "colab": {
          "base_uri": "https://localhost:8080/",
          "height": 472
        },
        "id": "ngy3aRPTubfh",
        "outputId": "58eefc37-8568-4d44-f1c8-1729d740ef99"
      },
      "execution_count": null,
      "outputs": [
        {
          "output_type": "stream",
          "name": "stdout",
          "text": [
            "y =  0.325 x +  0.0\n"
          ]
        },
        {
          "output_type": "display_data",
          "data": {
            "text/plain": [
              "<Figure size 640x480 with 1 Axes>"
            ],
            "image/png": "[encoded data removed]"
          },
          "metadata": {}
        }
      ]
    },
    {
      "cell_type": "markdown",
      "source": [
        "#Learn common factors and square roots"
      ],
      "metadata": {
        "id": "TRgUsuwFZ5Iq"
      }
    },
    {
      "cell_type": "markdown",
      "source": [
        "The modulus (`%`) finds the remainder"
      ],
      "metadata": {
        "id": "x8RGjdh8PwIe"
      }
    },
    {
      "cell_type": "code",
      "source": [
        "#print(5%3)\n",
        "\n",
        "print(31%10)\n"
      ],
      "metadata": {
        "id": "2uoBCLFnPvtC",
        "colab": {
          "base_uri": "https://localhost:8080/"
        },
        "outputId": "09e55ec0-8c55-49b2-a9ba-4853affc1932"
      },
      "execution_count": null,
      "outputs": [
        {
          "output_type": "stream",
          "name": "stdout",
          "text": [
            "1\n"
          ]
        }
      ]
    },
    {
      "cell_type": "markdown",
      "source": [
        "Use the modulus in a loop to find factors"
      ],
      "metadata": {
        "id": "JLX_cWbhQU3v"
      }
    },
    {
      "cell_type": "code",
      "execution_count": null,
      "metadata": {
        "id": "w--Zka73nnBA",
        "colab": {
          "base_uri": "https://localhost:8080/"
        },
        "outputId": "906b3cc4-2e1b-4e57-822c-027589fc490c"
      },
      "outputs": [
        {
          "output_type": "stream",
          "name": "stdout",
          "text": [
            "1\n",
            "2\n",
            "3\n",
            "4\n",
            "6\n",
            "12\n"
          ]
        }
      ],
      "source": [
        "\n",
        "number = 12\n",
        "\n",
        "# Find all factors\n",
        "for test_factor in range(1,number+1):\n",
        "    if number%test_factor==0:\n",
        "        print(test_factor)\n"
      ]
    },
    {
      "cell_type": "markdown",
      "source": [
        "Reduce fractions to lowest terms"
      ],
      "metadata": {
        "id": "_D4O3GOnROuQ"
      }
    },
    {
      "cell_type": "code",
      "source": [
        "numerator = 12\n",
        "denominator = 24\n",
        "factor = 1\n",
        "\n",
        "# Find greatest common factor\n",
        "for test_factor in range(1,denominator+1):\n",
        "    if numerator%test_factor==0 and denominator%test_factor==0:\n",
        "        factor = test_factor\n",
        "\n",
        "# Divide out greatest common factor\n",
        "n = int(numerator/factor)\n",
        "d = int(denominator/factor)\n",
        "\n",
        "print(\"original: \", numerator, \"/\", denominator)\n",
        "print(\"reduced: \", n, \"/\", d)\n"
      ],
      "metadata": {
        "id": "6Q01c0zyQd2-",
        "colab": {
          "base_uri": "https://localhost:8080/"
        },
        "outputId": "372addab-b339-48f3-98a0-6680ef1483ee"
      },
      "execution_count": null,
      "outputs": [
        {
          "output_type": "stream",
          "name": "stdout",
          "text": [
            "original:  12 / 24\n",
            "reduced:  1 / 2\n"
          ]
        }
      ]
    },
    {
      "cell_type": "markdown",
      "source": [
        "You can add this code to the decimal-to-fraction code"
      ],
      "metadata": {
        "id": "PNMJQnJITZsU"
      }
    },
    {
      "cell_type": "code",
      "source": [
        "# Get the decimal number to convert\n",
        "digits = input(\"Enter a decimal number to convert: \")\n",
        "\n",
        "# Convert to fraction\n",
        "exponent = int(len(digits))-1\n",
        "n = float(digits)\n",
        "numerator = int(n * 10**exponent)\n",
        "denominator = 10**exponent\n",
        "\n",
        "# Reduce that fraction\n",
        "factor = 1\n",
        "for test_factor in range(1,denominator+1):\n",
        "    if numerator%test_factor==0 and denominator%test_factor==0:\n",
        "        factor = test_factor\n",
        "\n",
        "# Divide out greatest common factor\n",
        "num = int(numerator/factor)\n",
        "den = int(denominator/factor)\n",
        "\n",
        "# Output\n",
        "print(\"The decimal is \", n)\n",
        "print(\"The fraction is \", num, \"/\", den)\n"
      ],
      "metadata": {
        "id": "sCvtP7UCSU8X",
        "colab": {
          "base_uri": "https://localhost:8080/"
        },
        "outputId": "57d8b907-0d09-48cb-b19a-fb9155aa1d71"
      },
      "execution_count": null,
      "outputs": [
        {
          "output_type": "stream",
          "name": "stdout",
          "text": [
            "Enter a decimal number to convert: .897\n",
            "The decimal is  0.897\n",
            "The fraction is  897 / 1000\n"
          ]
        }
      ]
    },
    {
      "cell_type": "markdown",
      "source": [
        "Next level... factoring square roots"
      ],
      "metadata": {
        "id": "KMJIAXH8Vgg5"
      }
    },
    {
      "cell_type": "code",
      "source": [
        "import math\n",
        "\n",
        "print(math.sqrt(24))\n"
      ],
      "metadata": {
        "id": "-giePhMGUxd3",
        "colab": {
          "base_uri": "https://localhost:8080/"
        },
        "outputId": "4ef66ccf-9d62-4d27-8217-645320ca61ff"
      },
      "execution_count": null,
      "outputs": [
        {
          "output_type": "stream",
          "name": "stdout",
          "text": [
            "4.898979485566356\n"
          ]
        }
      ]
    },
    {
      "cell_type": "markdown",
      "source": [
        "Divide out any perfect square factors. For example:<br>\n",
        " $\\sqrt{12}$ = $\\sqrt{4 * 3}$ = 2$\\sqrt{3}$<br>\n",
        "Because 4 is a square number, the square root of 4 is now outside the radical."
      ],
      "metadata": {
        "id": "raHMQ-AIWgUs"
      }
    },
    {
      "cell_type": "code",
      "source": [
        "import math\n",
        "\n",
        "# number to factor\n",
        "n = 12\n",
        "\n",
        "# This variable will change\n",
        "max_factor = 1\n",
        "\n",
        "# The key ingredient\n",
        "upper_limit = math.floor(math.sqrt(n)) + 1\n",
        "\n",
        "# Find square factors\n",
        "for maybe_factor in range(1,upper_limit):\n",
        "    if n % (maybe_factor**2) == 0:\n",
        "        max_factor = maybe_factor\n",
        "\n",
        "# Results so far\n",
        "print(\"n = \", n)\n",
        "print(\"Square rooted factor = \", max_factor)\n",
        "print(\"Square factor = \", max_factor**2)\n",
        "print(\"integer: \", n/(max_factor**2))\n"
      ],
      "metadata": {
        "id": "aR-ny0yGWy_5",
        "colab": {
          "base_uri": "https://localhost:8080/"
        },
        "outputId": "6f66a10b-06d8-400f-a3c0-f46fabace3bb"
      },
      "execution_count": null,
      "outputs": [
        {
          "output_type": "stream",
          "name": "stdout",
          "text": [
            "n =  12\n",
            "Square rooted factor =  2\n",
            "Square factor =  4\n",
            "integer:  3.0\n"
          ]
        }
      ]
    },
    {
      "cell_type": "markdown",
      "source": [
        "Using Sympy to make this look nice"
      ],
      "metadata": {
        "id": "66QuFOmPavkK"
      }
    },
    {
      "cell_type": "code",
      "source": [
        "import math\n",
        "import sympy\n",
        "from sympy import symbols\n",
        "\n",
        "n = 24\n",
        "\n",
        "# Use these variables\n",
        "upper_limit = math.floor(math.sqrt(n)) + 1\n",
        "max_factor = 1\n",
        "other_factor = 1\n",
        "square_root = 1\n",
        "\n",
        "# Slightly different variable strategy\n",
        "for maybe_factor in range(1, upper_limit):\n",
        "    if n % (maybe_factor**2) == 0:\n",
        "        max_factor = maybe_factor**2\n",
        "\n",
        "# Divide out the greatest square factor\n",
        "other_factor = n/max_factor\n",
        "\n",
        "# Output variables\n",
        "square_root = int(math.sqrt(max_factor))\n",
        "other_factor = int(other_factor)\n",
        "output = square_root*sympy.sqrt(other_factor)\n",
        "\n",
        "# Sympy output without print statement - must be last line\n",
        "output"
      ],
      "metadata": {
        "id": "GOGAgeL5aOUn",
        "colab": {
          "base_uri": "https://localhost:8080/",
          "height": 38
        },
        "outputId": "75125443-d4fb-404b-e76e-eeed1066371b"
      },
      "execution_count": null,
      "outputs": [
        {
          "output_type": "execute_result",
          "data": {
            "text/plain": [
              "2*sqrt(6)"
            ],
            "text/latex": "$\\displaystyle 2 \\sqrt{6}$"
          },
          "metadata": {},
          "execution_count": 23
        }
      ]
    },
    {
      "cell_type": "markdown",
      "source": [
        "#Learn how to graph systems of equations"
      ],
      "metadata": {
        "id": "bdB4AOIhj8t8"
      }
    },
    {
      "cell_type": "markdown",
      "source": [
        "Use numpy library instead of a loop"
      ],
      "metadata": {
        "id": "SNgivprofX7W"
      }
    },
    {
      "cell_type": "code",
      "execution_count": null,
      "metadata": {
        "id": "fCBMXJEmeum4",
        "colab": {
          "base_uri": "https://localhost:8080/",
          "height": 435
        },
        "outputId": "9f931b55-9c14-4a5a-8c6c-87221c546d9b"
      },
      "outputs": [
        {
          "output_type": "display_data",
          "data": {
            "text/plain": [
              "<Figure size 640x480 with 1 Axes>"
            ],
            "image/png": "[encoded data removed]"
          },
          "metadata": {}
        }
      ],
      "source": [
        "import matplotlib.pyplot as plt\n",
        "import numpy as np\n",
        "\n",
        "xmin = -10\n",
        "xmax = 10\n",
        "ymin = -10\n",
        "ymax = 10\n",
        "\n",
        "# Define how many points to plot\n",
        "points = 10*(xmax-xmin)\n",
        "\n",
        "# Define the array of x values once\n",
        "x = np.linspace(xmin,xmax,points)\n",
        "\n",
        "fig, ax = plt.subplots()\n",
        "plt.axis([xmin,xmax,ymin,ymax]) # window size\n",
        "plt.plot([xmin,xmax],[0,0],'b') # blue x axis\n",
        "plt.plot([0,0],[ymin,ymax], 'b') # blue y axis\n",
        "\n",
        "# line 1\n",
        "y1 = 3*x\n",
        "plt.plot(x, y1)\n",
        "\n",
        "# line 2\n",
        "y2 = x**3\n",
        "plt.plot(x, y2)\n",
        "\n",
        "ax.grid(True)\n",
        "plt.show()\n",
        "\n"
      ]
    },
    {
      "cell_type": "markdown",
      "source": [
        "Shading and graphing inequalities"
      ],
      "metadata": {
        "id": "vdSbrlHgPKy0"
      }
    },
    {
      "cell_type": "code",
      "source": [
        "import matplotlib.pyplot as plt\n",
        "import numpy as np\n",
        "\n",
        "xmin = -10\n",
        "xmax = 10\n",
        "ymin = -10\n",
        "ymax = 10\n",
        "points = 2*(xmax-xmin)\n",
        "x = np.linspace(xmin,xmax,points)\n",
        "\n",
        "fig, ax = plt.subplots()\n",
        "plt.axis([xmin,xmax,ymin,ymax]) # window size\n",
        "plt.plot([xmin,xmax],[0,0],'b') # blue x axis\n",
        "plt.plot([0,0],[ymin,ymax], 'b') # blue y axis\n",
        "\n",
        "# line 1\n",
        "y1 = x+6\n",
        "plt.plot(x, y1,'-')\n",
        "plt.fill_between(x, y1, ymax, facecolor='red')\n",
        "\n",
        "# line 2\n",
        "y2 = x+3\n",
        "plt.plot(x, y2,'-')\n",
        "plt.fill_between(x, y2, y1, facecolor='yellow')\n",
        "\n",
        "# line 3\n",
        "y3 = x-1\n",
        "plt.plot(x, y3)\n",
        "plt.fill_between(x, y3, y2, facecolor='green')\n",
        "\n",
        "# line 4\n",
        "y4 = x-4\n",
        "plt.plot(x, y4)\n",
        "plt.fill_between(x, y4, y3, facecolor='blue')\n",
        "\n",
        "plt.show()\n",
        "\n"
      ],
      "metadata": {
        "id": "OhOPIc1UPGyE",
        "colab": {
          "base_uri": "https://localhost:8080/",
          "height": 435
        },
        "outputId": "d125d668-1621-4f1d-d387-a811f4ceeb14"
      },
      "execution_count": null,
      "outputs": [
        {
          "output_type": "display_data",
          "data": {
            "text/plain": [
              "<Figure size 640x480 with 1 Axes>"
            ],
            "image/png": "[encoded data removed]"
          },
          "metadata": {}
        }
      ]
    },
    {
      "cell_type": "markdown",
      "source": [
        "Interactive graphs"
      ],
      "metadata": {
        "id": "YFY0C-M1Oq2G"
      }
    },
    {
      "cell_type": "code",
      "source": [
        "%matplotlib inline\n",
        "from ipywidgets import interactive\n",
        "import matplotlib.pyplot as plt\n",
        "import numpy as np\n",
        "\n",
        "# Define the graphing function\n",
        "def f(m, b, zoom):\n",
        "    xmin = -zoom\n",
        "    xmax = zoom\n",
        "    ymin = -zoom\n",
        "    ymax = zoom\n",
        "    points = 10*xmax-xmin\n",
        "    x = np.linspace(xmin, xmax, points)\n",
        "\n",
        "    plt.axis([xmin,xmax,ymin,ymax]) # window size\n",
        "    plt.plot([xmin,xmax],[0,0],'black') # black x axis\n",
        "    plt.plot([0,0],[ymin,ymax], 'black') # black y axis\n",
        "\n",
        "    # Line 1\n",
        "    y1 = 3*x**2 - 4\n",
        "\n",
        "    # Line 2\n",
        "    plt.plot(x, y1)\n",
        "    plt.show()\n",
        "    # plt.fill_between(x, y3, y2, facecolor='blue')\n",
        "\n",
        "# Set up the sliders\n",
        "interactive_plot = interactive(f, m=(-9, 9), b=(-9, 9), zoom=(1,100))\n",
        "interactive_plot\n",
        "\n"
      ],
      "metadata": {
        "id": "h8Zx8XEKOpmm",
        "colab": {
          "base_uri": "https://localhost:8080/",
          "height": 526,
          "referenced_widgets": [
            "c07a2526176d4b23add42beb76abe827",
            "79b010278a4e47d793dcf8c11393adc1",
            "ab3af0821d914341b9ae269ed20be27b",
            "8688d9f38a23400da0fb703e1c8ed146",
            "95007f7bab6044c7ae6fa1842335a677",
            "ee5e24d0786842108d66fc88d43463d0",
            "55693d30031642f09e59c88474d970a9",
            "306ecd65f1064366a7675def8f880b9d",
            "05181d478a7c45a5be1750ace2783a3b",
            "b89e34e909af415b97abf22db88c2952",
            "516ced2fea0747439684e5ff79a2f70c",
            "63a2a9e45fd848179191464659faca73",
            "3b37b201d8e2484e815b531c987f6ebf"
          ]
        },
        "outputId": "237ae1a5-5ca7-403a-ee61-5f5dc5d77e5d"
      },
      "execution_count": null,
      "outputs": [
        {
          "output_type": "display_data",
          "data": {
            "text/plain": [
              "interactive(children=(IntSlider(value=0, description='m', max=9, min=-9), IntSlider(value=0, description='b', …"
            ],
            "application/vnd.jupyter.widget-view+json": {
              "version_major": 2,
              "version_minor": 0,
              "model_id": "c07a2526176d4b23add42beb76abe827"
            }
          },
          "metadata": {}
        }
      ]
    },
    {
      "cell_type": "code",
      "source": [],
      "metadata": {
        "id": "zoFHiPv8lMPp"
      },
      "execution_count": null,
      "outputs": []
    },
    {
      "cell_type": "markdown",
      "source": [
        "Graphing weather data"
      ],
      "metadata": {
        "id": "jyrJX8ADT0Il"
      }
    },
    {
      "cell_type": "code",
      "source": [
        "!pip install meteostat\n"
      ],
      "metadata": {
        "id": "6W3y_P9NDost",
        "colab": {
          "base_uri": "https://localhost:8080/"
        },
        "outputId": "395cf389-8714-47ff-fbdb-f8097b42a48d"
      },
      "execution_count": null,
      "outputs": [
        {
          "output_type": "stream",
          "name": "stdout",
          "text": [
            "Collecting meteostat\n",
            "  Downloading meteostat-1.6.7-py3-none-any.whl (31 kB)\n",
            "Requirement already satisfied: pandas>=1.1 in /usr/local/lib/python3.10/dist-packages (from meteostat) (2.0.3)\n",
            "Requirement already satisfied: pytz in /usr/local/lib/python3.10/dist-packages (from meteostat) (2023.4)\n",
            "Requirement already satisfied: numpy in /usr/local/lib/python3.10/dist-packages (from meteostat) (1.25.2)\n",
            "Requirement already satisfied: python-dateutil>=2.8.2 in /usr/local/lib/python3.10/dist-packages (from pandas>=1.1->meteostat) (2.8.2)\n",
            "Requirement already satisfied: tzdata>=2022.1 in /usr/local/lib/python3.10/dist-packages (from pandas>=1.1->meteostat) (2024.1)\n",
            "Requirement already satisfied: six>=1.5 in /usr/local/lib/python3.10/dist-packages (from python-dateutil>=2.8.2->pandas>=1.1->meteostat) (1.16.0)\n",
            "Installing collected packages: meteostat\n",
            "Successfully installed meteostat-1.6.7\n"
          ]
        }
      ]
    },
    {
      "cell_type": "markdown",
      "source": [
        "Columns:<br>\n",
        "time, tavg, tmin, tmax, prcp, snow, wdir, wspd, wpgt, pres, tsun"
      ],
      "metadata": {
        "id": "7bLdApPhJV12"
      }
    },
    {
      "cell_type": "code",
      "execution_count": null,
      "metadata": {
        "id": "Q9vR8jWPC48h",
        "colab": {
          "base_uri": "https://localhost:8080/",
          "height": 466
        },
        "outputId": "b20aa141-c099-4930-ad3c-3f95ed747132"
      },
      "outputs": [
        {
          "output_type": "display_data",
          "data": {
            "text/plain": [
              "<Figure size 640x480 with 1 Axes>"
            ],
            "image/png": "[encoded data removed]"
          },
          "metadata": {}
        }
      ],
      "source": [
        "# Import Meteostat library and dependencies\n",
        "from datetime import datetime\n",
        "import matplotlib.pyplot as plt\n",
        "from meteostat import Point, Daily\n",
        "\n",
        "# Documentation\n",
        "# https://dev.meteostat.net/python/daily.html#data-structure\n",
        "\n",
        "# Set time period\n",
        "start = datetime(2022, 1, 1)\n",
        "end = datetime(2022, 7, 31)\n",
        "\n",
        "# Create Point for Vancouver,BC or Philadelphia, PA\n",
        "#vancouver = Point(49.2497, -123.1193, 70)\n",
        "philly = Point(39.97,-75.13,25)\n",
        "\n",
        "# Get daily data for 2018\n",
        "data = Daily(philly, start, end)\n",
        "data = data.fetch()\n",
        "\n",
        "# Plot line chart including average, minimum and maximum temperature\n",
        "data.plot(y=['tavg', 'prcp','snow'])\n",
        "plt.show()\n"
      ]
    },
    {
      "cell_type": "code",
      "source": [],
      "metadata": {
        "id": "QA_s8cUvllmf"
      },
      "execution_count": null,
      "outputs": []
    },
    {
      "cell_type": "markdown",
      "source": [
        "#Learn how to solve systems of equations"
      ],
      "metadata": {
        "id": "iB3ekSCimV7F"
      }
    },
    {
      "cell_type": "markdown",
      "source": [
        "Simplest way to solve a system of equations. Set each equation equal to zero"
      ],
      "metadata": {
        "id": "7lwYtjDVo-P3"
      }
    },
    {
      "cell_type": "code",
      "execution_count": null,
      "metadata": {
        "colab": {
          "base_uri": "https://localhost:8080/"
        },
        "id": "sxXiPuS0gU3i",
        "outputId": "2f0d2956-2f4a-4a85-cc86-b3953179e27a"
      },
      "outputs": [
        {
          "output_type": "stream",
          "name": "stdout",
          "text": [
            "{(-1, 3)}\n"
          ]
        }
      ],
      "source": [
        "from sympy import *\n",
        "\n",
        "x,y = symbols('x y')\n",
        "\n",
        "# Equations set equal to zero\n",
        "first = 2*x + y - 1\n",
        "second = x - 2*y + 7\n",
        "\n",
        "# The solution\n",
        "print(linsolve([first, second], (x, y)))\n"
      ]
    },
    {
      "cell_type": "markdown",
      "source": [
        "Nicer looking output"
      ],
      "metadata": {
        "id": "bEob2sM-12VW"
      }
    },
    {
      "cell_type": "code",
      "source": [
        "from sympy import *\n",
        "\n",
        "x,y = symbols('x y')\n",
        "\n",
        "first = 2*x + y - 1\n",
        "second = x - 2*y + 7\n",
        "\n",
        "\n",
        "# parse finite set answer as coordinate pair\n",
        "solution = linsolve([first, second], (x, y))\n",
        "x_solution = solution.args[0][0]\n",
        "y_solution = solution.args[0][1]\n",
        "\n",
        "# Print a coordinate pair\n",
        "print(\"(\", x_solution, \",\", y_solution, \")\")\n"
      ],
      "metadata": {
        "id": "9pYhrMOgg_go",
        "colab": {
          "base_uri": "https://localhost:8080/"
        },
        "outputId": "81ed36d4-3da0-49bf-86f2-a6b977044c9b"
      },
      "execution_count": null,
      "outputs": [
        {
          "output_type": "stream",
          "name": "stdout",
          "text": [
            "( -1 , 3 )\n"
          ]
        }
      ]
    },
    {
      "cell_type": "markdown",
      "source": [
        "Solve and graph. Factor to change from \"`0 = `\" to \"`y = `\" preparing to graph"
      ],
      "metadata": {
        "id": "q4FlfI5cpqNi"
      }
    },
    {
      "cell_type": "code",
      "source": [
        "from sympy import *\n",
        "from sympy.plotting import plot\n",
        "from sympy import sqrt\n",
        "\n",
        "var('x y')\n",
        "\n",
        "# First equation set equal to zero, ready to solve\n",
        "first = -x**2 - y + 10\n",
        "#first = sqrt(x) - y\n",
        "\n",
        "#Second equation set equal to zero, ready to solve\n",
        "second = 2*x**2 - 2*y - 4\n",
        "#second = -x + 5 - y\n",
        "\n",
        "# Solve - can be linear or nonlinear equations\n",
        "solution = nonlinsolve([first, second], (x, y))\n",
        "for a in range(len(solution.args)):\n",
        "    x_solution = solution.args[a][0]\n",
        "    y_solution = solution.args[a][1]\n",
        "    print(\"Solution = (\", x_solution, \",\", y_solution, \")\")\n",
        "\n",
        "# Sympy syntax for equation equal to zero, ready to factor\n",
        "y_first = Eq(first,0)\n",
        "\n",
        "# Sympy solve for y\n",
        "y1 = solve(y_first,y)\n",
        "\n",
        "# Same two steps for second equation\n",
        "y_second = Eq(second,0)\n",
        "y2 = solve(y_second,y)\n",
        "\n",
        "# Show factored results\n",
        "print(\"y = \", y1[0])\n",
        "print(\"y = \", y2[0])\n",
        "\n",
        "# Plot solution\n",
        "x = symbols('x')\n",
        "xmin = -10\n",
        "xmax = 10\n",
        "plot(y1[0], y2[0], (x,xmin,xmax))\n",
        "\n"
      ],
      "metadata": {
        "id": "E4JCVuUKjluH",
        "colab": {
          "base_uri": "https://localhost:8080/",
          "height": 574
        },
        "outputId": "4af7aa78-faf6-484e-e698-549fa7d216f1"
      },
      "execution_count": null,
      "outputs": [
        {
          "output_type": "stream",
          "name": "stdout",
          "text": [
            "Solution = ( sqrt(6) , 4 )\n",
            "Solution = ( -sqrt(6) , 4 )\n",
            "y =  10 - x**2\n",
            "y =  x**2 - 2\n"
          ]
        },
        {
          "output_type": "display_data",
          "data": {
            "text/plain": [
              "<Figure size 640x480 with 1 Axes>"
            ],
            "image/png": "[encoded data removed]"
          },
          "metadata": {}
        },
        {
          "output_type": "execute_result",
          "data": {
            "text/plain": [
              "<sympy.plotting.plot.Plot at 0x7f756c8c2e30>"
            ]
          },
          "metadata": {},
          "execution_count": 15
        }
      ]
    },
    {
      "cell_type": "code",
      "source": [],
      "metadata": {
        "id": "kPym57_5m-e6"
      },
      "execution_count": null,
      "outputs": []
    }
  ]
}